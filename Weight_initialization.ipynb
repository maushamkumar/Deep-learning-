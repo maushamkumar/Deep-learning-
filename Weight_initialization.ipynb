{
  "nbformat": 4,
  "nbformat_minor": 0,
  "metadata": {
    "colab": {
      "provenance": [],
      "authorship_tag": "ABX9TyMoLu+9LxyqM+o1ZvizylBw",
      "include_colab_link": true
    },
    "kernelspec": {
      "name": "python3",
      "display_name": "Python 3"
    },
    "language_info": {
      "name": "python"
    }
  },
  "cells": [
    {
      "cell_type": "markdown",
      "metadata": {
        "id": "view-in-github",
        "colab_type": "text"
      },
      "source": [
        "<a href=\"https://colab.research.google.com/github/maushamkumar/Deep-learning-/blob/main/Weight_initialization.ipynb\" target=\"_parent\"><img src=\"https://colab.research.google.com/assets/colab-badge.svg\" alt=\"Open In Colab\"/></a>"
      ]
    },
    {
      "cell_type": "markdown",
      "source": [
        "# Zero-Weight initialization\n",
        "\n",
        "* In the First case we'll use relu as an activation function."
      ],
      "metadata": {
        "id": "7QEUL1Mx6FeF"
      }
    },
    {
      "cell_type": "code",
      "execution_count": 1,
      "metadata": {
        "id": "5k3GbE2B5smQ"
      },
      "outputs": [],
      "source": [
        "import numpy as np\n",
        "import pandas as pd\n",
        "import matplotlib.pyplot as plt\n"
      ]
    },
    {
      "cell_type": "code",
      "source": [
        "df = pd.read_csv('/content/ushape.csv')"
      ],
      "metadata": {
        "id": "_bp4Ucs27YZt"
      },
      "execution_count": 2,
      "outputs": []
    },
    {
      "cell_type": "code",
      "source": [
        "df.head()"
      ],
      "metadata": {
        "colab": {
          "base_uri": "https://localhost:8080/",
          "height": 206
        },
        "id": "8vUhFap-7bMd",
        "outputId": "2d2e07a8-a5ae-4295-ef18-d9c0af04b967"
      },
      "execution_count": 3,
      "outputs": [
        {
          "output_type": "execute_result",
          "data": {
            "text/plain": [
              "        X       Y  class\n",
              "0  0.0316  0.9870    0.0\n",
              "1  2.1200 -0.0462    1.0\n",
              "2  0.8820 -0.0758    0.0\n",
              "3 -0.0551 -0.0373    1.0\n",
              "4  0.8300 -0.5390    1.0"
            ],
            "text/html": [
              "\n",
              "  <div id=\"df-7160e160-9fcd-4142-a372-a203da6fa512\" class=\"colab-df-container\">\n",
              "    <div>\n",
              "<style scoped>\n",
              "    .dataframe tbody tr th:only-of-type {\n",
              "        vertical-align: middle;\n",
              "    }\n",
              "\n",
              "    .dataframe tbody tr th {\n",
              "        vertical-align: top;\n",
              "    }\n",
              "\n",
              "    .dataframe thead th {\n",
              "        text-align: right;\n",
              "    }\n",
              "</style>\n",
              "<table border=\"1\" class=\"dataframe\">\n",
              "  <thead>\n",
              "    <tr style=\"text-align: right;\">\n",
              "      <th></th>\n",
              "      <th>X</th>\n",
              "      <th>Y</th>\n",
              "      <th>class</th>\n",
              "    </tr>\n",
              "  </thead>\n",
              "  <tbody>\n",
              "    <tr>\n",
              "      <th>0</th>\n",
              "      <td>0.0316</td>\n",
              "      <td>0.9870</td>\n",
              "      <td>0.0</td>\n",
              "    </tr>\n",
              "    <tr>\n",
              "      <th>1</th>\n",
              "      <td>2.1200</td>\n",
              "      <td>-0.0462</td>\n",
              "      <td>1.0</td>\n",
              "    </tr>\n",
              "    <tr>\n",
              "      <th>2</th>\n",
              "      <td>0.8820</td>\n",
              "      <td>-0.0758</td>\n",
              "      <td>0.0</td>\n",
              "    </tr>\n",
              "    <tr>\n",
              "      <th>3</th>\n",
              "      <td>-0.0551</td>\n",
              "      <td>-0.0373</td>\n",
              "      <td>1.0</td>\n",
              "    </tr>\n",
              "    <tr>\n",
              "      <th>4</th>\n",
              "      <td>0.8300</td>\n",
              "      <td>-0.5390</td>\n",
              "      <td>1.0</td>\n",
              "    </tr>\n",
              "  </tbody>\n",
              "</table>\n",
              "</div>\n",
              "    <div class=\"colab-df-buttons\">\n",
              "\n",
              "  <div class=\"colab-df-container\">\n",
              "    <button class=\"colab-df-convert\" onclick=\"convertToInteractive('df-7160e160-9fcd-4142-a372-a203da6fa512')\"\n",
              "            title=\"Convert this dataframe to an interactive table.\"\n",
              "            style=\"display:none;\">\n",
              "\n",
              "  <svg xmlns=\"http://www.w3.org/2000/svg\" height=\"24px\" viewBox=\"0 -960 960 960\">\n",
              "    <path d=\"M120-120v-720h720v720H120Zm60-500h600v-160H180v160Zm220 220h160v-160H400v160Zm0 220h160v-160H400v160ZM180-400h160v-160H180v160Zm440 0h160v-160H620v160ZM180-180h160v-160H180v160Zm440 0h160v-160H620v160Z\"/>\n",
              "  </svg>\n",
              "    </button>\n",
              "\n",
              "  <style>\n",
              "    .colab-df-container {\n",
              "      display:flex;\n",
              "      gap: 12px;\n",
              "    }\n",
              "\n",
              "    .colab-df-convert {\n",
              "      background-color: #E8F0FE;\n",
              "      border: none;\n",
              "      border-radius: 50%;\n",
              "      cursor: pointer;\n",
              "      display: none;\n",
              "      fill: #1967D2;\n",
              "      height: 32px;\n",
              "      padding: 0 0 0 0;\n",
              "      width: 32px;\n",
              "    }\n",
              "\n",
              "    .colab-df-convert:hover {\n",
              "      background-color: #E2EBFA;\n",
              "      box-shadow: 0px 1px 2px rgba(60, 64, 67, 0.3), 0px 1px 3px 1px rgba(60, 64, 67, 0.15);\n",
              "      fill: #174EA6;\n",
              "    }\n",
              "\n",
              "    .colab-df-buttons div {\n",
              "      margin-bottom: 4px;\n",
              "    }\n",
              "\n",
              "    [theme=dark] .colab-df-convert {\n",
              "      background-color: #3B4455;\n",
              "      fill: #D2E3FC;\n",
              "    }\n",
              "\n",
              "    [theme=dark] .colab-df-convert:hover {\n",
              "      background-color: #434B5C;\n",
              "      box-shadow: 0px 1px 3px 1px rgba(0, 0, 0, 0.15);\n",
              "      filter: drop-shadow(0px 1px 2px rgba(0, 0, 0, 0.3));\n",
              "      fill: #FFFFFF;\n",
              "    }\n",
              "  </style>\n",
              "\n",
              "    <script>\n",
              "      const buttonEl =\n",
              "        document.querySelector('#df-7160e160-9fcd-4142-a372-a203da6fa512 button.colab-df-convert');\n",
              "      buttonEl.style.display =\n",
              "        google.colab.kernel.accessAllowed ? 'block' : 'none';\n",
              "\n",
              "      async function convertToInteractive(key) {\n",
              "        const element = document.querySelector('#df-7160e160-9fcd-4142-a372-a203da6fa512');\n",
              "        const dataTable =\n",
              "          await google.colab.kernel.invokeFunction('convertToInteractive',\n",
              "                                                    [key], {});\n",
              "        if (!dataTable) return;\n",
              "\n",
              "        const docLinkHtml = 'Like what you see? Visit the ' +\n",
              "          '<a target=\"_blank\" href=https://colab.research.google.com/notebooks/data_table.ipynb>data table notebook</a>'\n",
              "          + ' to learn more about interactive tables.';\n",
              "        element.innerHTML = '';\n",
              "        dataTable['output_type'] = 'display_data';\n",
              "        await google.colab.output.renderOutput(dataTable, element);\n",
              "        const docLink = document.createElement('div');\n",
              "        docLink.innerHTML = docLinkHtml;\n",
              "        element.appendChild(docLink);\n",
              "      }\n",
              "    </script>\n",
              "  </div>\n",
              "\n",
              "\n",
              "<div id=\"df-f00e5847-6b8b-4310-b48a-d10b741ff0dd\">\n",
              "  <button class=\"colab-df-quickchart\" onclick=\"quickchart('df-f00e5847-6b8b-4310-b48a-d10b741ff0dd')\"\n",
              "            title=\"Suggest charts\"\n",
              "            style=\"display:none;\">\n",
              "\n",
              "<svg xmlns=\"http://www.w3.org/2000/svg\" height=\"24px\"viewBox=\"0 0 24 24\"\n",
              "     width=\"24px\">\n",
              "    <g>\n",
              "        <path d=\"M19 3H5c-1.1 0-2 .9-2 2v14c0 1.1.9 2 2 2h14c1.1 0 2-.9 2-2V5c0-1.1-.9-2-2-2zM9 17H7v-7h2v7zm4 0h-2V7h2v10zm4 0h-2v-4h2v4z\"/>\n",
              "    </g>\n",
              "</svg>\n",
              "  </button>\n",
              "\n",
              "<style>\n",
              "  .colab-df-quickchart {\n",
              "      --bg-color: #E8F0FE;\n",
              "      --fill-color: #1967D2;\n",
              "      --hover-bg-color: #E2EBFA;\n",
              "      --hover-fill-color: #174EA6;\n",
              "      --disabled-fill-color: #AAA;\n",
              "      --disabled-bg-color: #DDD;\n",
              "  }\n",
              "\n",
              "  [theme=dark] .colab-df-quickchart {\n",
              "      --bg-color: #3B4455;\n",
              "      --fill-color: #D2E3FC;\n",
              "      --hover-bg-color: #434B5C;\n",
              "      --hover-fill-color: #FFFFFF;\n",
              "      --disabled-bg-color: #3B4455;\n",
              "      --disabled-fill-color: #666;\n",
              "  }\n",
              "\n",
              "  .colab-df-quickchart {\n",
              "    background-color: var(--bg-color);\n",
              "    border: none;\n",
              "    border-radius: 50%;\n",
              "    cursor: pointer;\n",
              "    display: none;\n",
              "    fill: var(--fill-color);\n",
              "    height: 32px;\n",
              "    padding: 0;\n",
              "    width: 32px;\n",
              "  }\n",
              "\n",
              "  .colab-df-quickchart:hover {\n",
              "    background-color: var(--hover-bg-color);\n",
              "    box-shadow: 0 1px 2px rgba(60, 64, 67, 0.3), 0 1px 3px 1px rgba(60, 64, 67, 0.15);\n",
              "    fill: var(--button-hover-fill-color);\n",
              "  }\n",
              "\n",
              "  .colab-df-quickchart-complete:disabled,\n",
              "  .colab-df-quickchart-complete:disabled:hover {\n",
              "    background-color: var(--disabled-bg-color);\n",
              "    fill: var(--disabled-fill-color);\n",
              "    box-shadow: none;\n",
              "  }\n",
              "\n",
              "  .colab-df-spinner {\n",
              "    border: 2px solid var(--fill-color);\n",
              "    border-color: transparent;\n",
              "    border-bottom-color: var(--fill-color);\n",
              "    animation:\n",
              "      spin 1s steps(1) infinite;\n",
              "  }\n",
              "\n",
              "  @keyframes spin {\n",
              "    0% {\n",
              "      border-color: transparent;\n",
              "      border-bottom-color: var(--fill-color);\n",
              "      border-left-color: var(--fill-color);\n",
              "    }\n",
              "    20% {\n",
              "      border-color: transparent;\n",
              "      border-left-color: var(--fill-color);\n",
              "      border-top-color: var(--fill-color);\n",
              "    }\n",
              "    30% {\n",
              "      border-color: transparent;\n",
              "      border-left-color: var(--fill-color);\n",
              "      border-top-color: var(--fill-color);\n",
              "      border-right-color: var(--fill-color);\n",
              "    }\n",
              "    40% {\n",
              "      border-color: transparent;\n",
              "      border-right-color: var(--fill-color);\n",
              "      border-top-color: var(--fill-color);\n",
              "    }\n",
              "    60% {\n",
              "      border-color: transparent;\n",
              "      border-right-color: var(--fill-color);\n",
              "    }\n",
              "    80% {\n",
              "      border-color: transparent;\n",
              "      border-right-color: var(--fill-color);\n",
              "      border-bottom-color: var(--fill-color);\n",
              "    }\n",
              "    90% {\n",
              "      border-color: transparent;\n",
              "      border-bottom-color: var(--fill-color);\n",
              "    }\n",
              "  }\n",
              "</style>\n",
              "\n",
              "  <script>\n",
              "    async function quickchart(key) {\n",
              "      const quickchartButtonEl =\n",
              "        document.querySelector('#' + key + ' button');\n",
              "      quickchartButtonEl.disabled = true;  // To prevent multiple clicks.\n",
              "      quickchartButtonEl.classList.add('colab-df-spinner');\n",
              "      try {\n",
              "        const charts = await google.colab.kernel.invokeFunction(\n",
              "            'suggestCharts', [key], {});\n",
              "      } catch (error) {\n",
              "        console.error('Error during call to suggestCharts:', error);\n",
              "      }\n",
              "      quickchartButtonEl.classList.remove('colab-df-spinner');\n",
              "      quickchartButtonEl.classList.add('colab-df-quickchart-complete');\n",
              "    }\n",
              "    (() => {\n",
              "      let quickchartButtonEl =\n",
              "        document.querySelector('#df-f00e5847-6b8b-4310-b48a-d10b741ff0dd button');\n",
              "      quickchartButtonEl.style.display =\n",
              "        google.colab.kernel.accessAllowed ? 'block' : 'none';\n",
              "    })();\n",
              "  </script>\n",
              "</div>\n",
              "\n",
              "    </div>\n",
              "  </div>\n"
            ],
            "application/vnd.google.colaboratory.intrinsic+json": {
              "type": "dataframe",
              "variable_name": "df",
              "summary": "{\n  \"name\": \"df\",\n  \"rows\": 100,\n  \"fields\": [\n    {\n      \"column\": \"X\",\n      \"properties\": {\n        \"dtype\": \"number\",\n        \"std\": 0.8912634114247283,\n        \"min\": -1.32,\n        \"max\": 2.18,\n        \"num_unique_values\": 97,\n        \"samples\": [\n          0.127,\n          1.52,\n          0.219\n        ],\n        \"semantic_type\": \"\",\n        \"description\": \"\"\n      }\n    },\n    {\n      \"column\": \"Y\",\n      \"properties\": {\n        \"dtype\": \"number\",\n        \"std\": 0.593023306337989,\n        \"min\": -1.04,\n        \"max\": 1.57,\n        \"num_unique_values\": 98,\n        \"samples\": [\n          -0.38,\n          -0.394,\n          -0.653\n        ],\n        \"semantic_type\": \"\",\n        \"description\": \"\"\n      }\n    },\n    {\n      \"column\": \"class\",\n      \"properties\": {\n        \"dtype\": \"number\",\n        \"std\": 0.502518907629606,\n        \"min\": 0.0,\n        \"max\": 1.0,\n        \"num_unique_values\": 2,\n        \"samples\": [\n          1.0,\n          0.0\n        ],\n        \"semantic_type\": \"\",\n        \"description\": \"\"\n      }\n    }\n  ]\n}"
            }
          },
          "metadata": {},
          "execution_count": 3
        }
      ]
    },
    {
      "cell_type": "code",
      "source": [
        "plt.scatter(df['X'], df['Y'], c=df['class'])"
      ],
      "metadata": {
        "colab": {
          "base_uri": "https://localhost:8080/",
          "height": 447
        },
        "id": "WrCMV3XV7b6e",
        "outputId": "a031cc0c-4fea-46a6-ddd3-b1c0dcea2456"
      },
      "execution_count": 4,
      "outputs": [
        {
          "output_type": "execute_result",
          "data": {
            "text/plain": [
              "<matplotlib.collections.PathCollection at 0x7cb8c49cd630>"
            ]
          },
          "metadata": {},
          "execution_count": 4
        },
        {
          "output_type": "display_data",
          "data": {
            "text/plain": [
              "<Figure size 640x480 with 1 Axes>"
            ],
            "image/png": "[encoded data removed]"
          },
          "metadata": {}
        }
      ]
    },
    {
      "cell_type": "code",
      "source": [
        "X = df.iloc[:, 0:2].values\n",
        "y = df.iloc[:, -1].values"
      ],
      "metadata": {
        "id": "MkcjWz5U7jyf"
      },
      "execution_count": 5,
      "outputs": []
    },
    {
      "cell_type": "code",
      "source": [
        "import tensorflow as tf\n",
        "from tensorflow import keras\n",
        "from tensorflow.keras import Sequential\n",
        "from keras.layers import Dense\n"
      ],
      "metadata": {
        "id": "Chj8BuRD7uQ4"
      },
      "execution_count": 6,
      "outputs": []
    },
    {
      "cell_type": "code",
      "source": [
        "model = Sequential()\n",
        "\n",
        "model.add(Dense(10,activation='relu',input_dim=2))\n",
        "model.add(Dense(1,activation='sigmoid'))\n",
        "\n",
        "model.summary()\n"
      ],
      "metadata": {
        "colab": {
          "base_uri": "https://localhost:8080/"
        },
        "id": "qTTR0fwv76NK",
        "outputId": "e2d8b2e1-8c33-4e6e-9708-90f718ee02ed"
      },
      "execution_count": 8,
      "outputs": [
        {
          "output_type": "stream",
          "name": "stdout",
          "text": [
            "Model: \"sequential_1\"\n",
            "_________________________________________________________________\n",
            " Layer (type)                Output Shape              Param #   \n",
            "=================================================================\n",
            " dense_2 (Dense)             (None, 10)                30        \n",
            "                                                                 \n",
            " dense_3 (Dense)             (None, 1)                 11        \n",
            "                                                                 \n",
            "=================================================================\n",
            "Total params: 41 (164.00 Byte)\n",
            "Trainable params: 41 (164.00 Byte)\n",
            "Non-trainable params: 0 (0.00 Byte)\n",
            "_________________________________________________________________\n"
          ]
        }
      ]
    },
    {
      "cell_type": "code",
      "source": [
        "# Set parameters to 0\n",
        "model.get_weights()"
      ],
      "metadata": {
        "colab": {
          "base_uri": "https://localhost:8080/"
        },
        "id": "1tVUyrB37_6p",
        "outputId": "b6c636f7-6ce2-4b04-c1d8-ac17a90ab647"
      },
      "execution_count": 9,
      "outputs": [
        {
          "output_type": "execute_result",
          "data": {
            "text/plain": [
              "[array([[ 0.5333938 , -0.6184841 ,  0.3545434 ,  0.21709102,  0.33148962,\n",
              "          0.09985816, -0.46957472,  0.08704603,  0.3146419 ,  0.3145643 ],\n",
              "        [ 0.2599193 ,  0.39226085,  0.24663746, -0.6248537 ,  0.49834603,\n",
              "          0.3819664 , -0.6544881 , -0.30259615,  0.5229265 ,  0.5024107 ]],\n",
              "       dtype=float32),\n",
              " array([0., 0., 0., 0., 0., 0., 0., 0., 0., 0.], dtype=float32),\n",
              " array([[ 1.19650960e-02],\n",
              "        [-7.16629684e-01],\n",
              "        [-5.98900557e-01],\n",
              "        [ 5.45862615e-01],\n",
              "        [ 1.15156174e-04],\n",
              "        [-4.49519187e-01],\n",
              "        [-5.21317542e-01],\n",
              "        [ 6.35383189e-01],\n",
              "        [ 8.59583020e-02],\n",
              "        [ 1.47016943e-01]], dtype=float32),\n",
              " array([0.], dtype=float32)]"
            ]
          },
          "metadata": {},
          "execution_count": 9
        }
      ]
    },
    {
      "cell_type": "code",
      "source": [
        "initial_weights = model.get_weights()"
      ],
      "metadata": {
        "id": "tuXYnDvP8KaF"
      },
      "execution_count": 10,
      "outputs": []
    },
    {
      "cell_type": "code",
      "source": [
        "initial_weights[0] = np.zeros(model.get_weights()[0].shape)\n",
        "initial_weights[1] = np.zeros(model.get_weights()[1].shape)\n",
        "initial_weights[2] = np.zeros(model.get_weights()[2].shape)\n",
        "initial_weights[3] = np.zeros(model.get_weights()[3].shape)\n"
      ],
      "metadata": {
        "id": "ZqqfPLoE8Q59"
      },
      "execution_count": 12,
      "outputs": []
    },
    {
      "cell_type": "code",
      "source": [
        "model.set_weights(initial_weights)"
      ],
      "metadata": {
        "id": "9eOgjz_98dcD"
      },
      "execution_count": 13,
      "outputs": []
    },
    {
      "cell_type": "code",
      "source": [
        "model.get_weights()"
      ],
      "metadata": {
        "colab": {
          "base_uri": "https://localhost:8080/"
        },
        "id": "L4B_mmA_8id7",
        "outputId": "717d7732-86bb-436c-df1b-4bdc2f85fa79"
      },
      "execution_count": 14,
      "outputs": [
        {
          "output_type": "execute_result",
          "data": {
            "text/plain": [
              "[array([[0., 0., 0., 0., 0., 0., 0., 0., 0., 0.],\n",
              "        [0., 0., 0., 0., 0., 0., 0., 0., 0., 0.]], dtype=float32),\n",
              " array([0., 0., 0., 0., 0., 0., 0., 0., 0., 0.], dtype=float32),\n",
              " array([[0.],\n",
              "        [0.],\n",
              "        [0.],\n",
              "        [0.],\n",
              "        [0.],\n",
              "        [0.],\n",
              "        [0.],\n",
              "        [0.],\n",
              "        [0.],\n",
              "        [0.]], dtype=float32),\n",
              " array([0.], dtype=float32)]"
            ]
          },
          "metadata": {},
          "execution_count": 14
        }
      ]
    },
    {
      "cell_type": "code",
      "source": [
        "model.compile(optimizer='adam',loss='binary_crossentropy',metrics=['accuracy'])"
      ],
      "metadata": {
        "id": "dBRjWc_w8jmw"
      },
      "execution_count": 15,
      "outputs": []
    },
    {
      "cell_type": "code",
      "source": [
        "history = model.fit(X,y,epochs=100, validation_split=0.2)"
      ],
      "metadata": {
        "colab": {
          "base_uri": "https://localhost:8080/"
        },
        "collapsed": true,
        "id": "_PCZZi0M8o_I",
        "outputId": "6c066de0-81ef-48cf-cc6d-96b295523ebd"
      },
      "execution_count": 16,
      "outputs": [
        {
          "output_type": "stream",
          "name": "stdout",
          "text": [
            "Epoch 1/100\n",
            "3/3 [==============================] - 1s 119ms/step - loss: 7.7125 - accuracy: 0.5000 - val_loss: 7.7125 - val_accuracy: 0.5000\n",
            "Epoch 2/100\n",
            "3/3 [==============================] - 0s 17ms/step - loss: 7.7125 - accuracy: 0.5000 - val_loss: 7.7125 - val_accuracy: 0.5000\n",
            "Epoch 3/100\n",
            "3/3 [==============================] - 0s 16ms/step - loss: 7.7125 - accuracy: 0.5000 - val_loss: 7.7125 - val_accuracy: 0.5000\n",
            "Epoch 4/100\n",
            "3/3 [==============================] - 0s 16ms/step - loss: 7.7125 - accuracy: 0.5000 - val_loss: 7.7125 - val_accuracy: 0.5000\n",
            "Epoch 5/100\n",
            "3/3 [==============================] - 0s 15ms/step - loss: 7.7125 - accuracy: 0.5000 - val_loss: 7.7125 - val_accuracy: 0.5000\n",
            "Epoch 6/100\n",
            "3/3 [==============================] - 0s 15ms/step - loss: 7.7125 - accuracy: 0.5000 - val_loss: 7.7125 - val_accuracy: 0.5000\n",
            "Epoch 7/100\n",
            "3/3 [==============================] - 0s 15ms/step - loss: 7.7125 - accuracy: 0.5000 - val_loss: 7.7125 - val_accuracy: 0.5000\n",
            "Epoch 8/100\n",
            "3/3 [==============================] - 0s 15ms/step - loss: 7.7125 - accuracy: 0.5000 - val_loss: 7.7125 - val_accuracy: 0.5000\n",
            "Epoch 9/100\n",
            "3/3 [==============================] - 0s 16ms/step - loss: 7.7125 - accuracy: 0.5000 - val_loss: 7.7125 - val_accuracy: 0.5000\n",
            "Epoch 10/100\n",
            "3/3 [==============================] - 0s 15ms/step - loss: 7.7125 - accuracy: 0.5000 - val_loss: 7.7125 - val_accuracy: 0.5000\n",
            "Epoch 11/100\n",
            "3/3 [==============================] - 0s 15ms/step - loss: 7.7125 - accuracy: 0.5000 - val_loss: 7.7125 - val_accuracy: 0.5000\n",
            "Epoch 12/100\n",
            "3/3 [==============================] - 0s 15ms/step - loss: 7.7125 - accuracy: 0.5000 - val_loss: 7.7125 - val_accuracy: 0.5000\n",
            "Epoch 13/100\n",
            "3/3 [==============================] - 0s 14ms/step - loss: 7.7125 - accuracy: 0.5000 - val_loss: 7.7125 - val_accuracy: 0.5000\n",
            "Epoch 14/100\n",
            "3/3 [==============================] - 0s 15ms/step - loss: 7.7125 - accuracy: 0.5000 - val_loss: 7.7125 - val_accuracy: 0.5000\n",
            "Epoch 15/100\n",
            "3/3 [==============================] - 0s 14ms/step - loss: 7.7125 - accuracy: 0.5000 - val_loss: 7.7125 - val_accuracy: 0.5000\n",
            "Epoch 16/100\n",
            "3/3 [==============================] - 0s 28ms/step - loss: 7.7125 - accuracy: 0.5000 - val_loss: 7.7125 - val_accuracy: 0.5000\n",
            "Epoch 17/100\n",
            "3/3 [==============================] - 0s 32ms/step - loss: 7.7125 - accuracy: 0.5000 - val_loss: 7.7125 - val_accuracy: 0.5000\n",
            "Epoch 18/100\n",
            "3/3 [==============================] - 0s 21ms/step - loss: 7.7125 - accuracy: 0.5000 - val_loss: 7.7125 - val_accuracy: 0.5000\n",
            "Epoch 19/100\n",
            "3/3 [==============================] - 0s 21ms/step - loss: 7.7125 - accuracy: 0.5000 - val_loss: 7.7125 - val_accuracy: 0.5000\n",
            "Epoch 20/100\n",
            "3/3 [==============================] - 0s 25ms/step - loss: 7.7125 - accuracy: 0.5000 - val_loss: 7.7125 - val_accuracy: 0.5000\n",
            "Epoch 21/100\n",
            "3/3 [==============================] - 0s 31ms/step - loss: 7.7125 - accuracy: 0.5000 - val_loss: 7.7125 - val_accuracy: 0.5000\n",
            "Epoch 22/100\n",
            "3/3 [==============================] - 0s 35ms/step - loss: 7.7125 - accuracy: 0.5000 - val_loss: 7.7125 - val_accuracy: 0.5000\n",
            "Epoch 23/100\n",
            "3/3 [==============================] - 0s 20ms/step - loss: 7.7125 - accuracy: 0.5000 - val_loss: 7.7125 - val_accuracy: 0.5000\n",
            "Epoch 24/100\n",
            "3/3 [==============================] - 0s 36ms/step - loss: 7.7125 - accuracy: 0.5000 - val_loss: 7.7125 - val_accuracy: 0.5000\n",
            "Epoch 25/100\n",
            "3/3 [==============================] - 0s 21ms/step - loss: 7.7125 - accuracy: 0.5000 - val_loss: 7.7125 - val_accuracy: 0.5000\n",
            "Epoch 26/100\n",
            "3/3 [==============================] - 0s 30ms/step - loss: 7.7125 - accuracy: 0.5000 - val_loss: 7.7125 - val_accuracy: 0.5000\n",
            "Epoch 27/100\n",
            "3/3 [==============================] - 0s 30ms/step - loss: 7.7125 - accuracy: 0.5000 - val_loss: 7.7125 - val_accuracy: 0.5000\n",
            "Epoch 28/100\n",
            "3/3 [==============================] - 0s 35ms/step - loss: 7.7125 - accuracy: 0.5000 - val_loss: 7.7125 - val_accuracy: 0.5000\n",
            "Epoch 29/100\n",
            "3/3 [==============================] - 0s 29ms/step - loss: 7.7125 - accuracy: 0.5000 - val_loss: 7.7125 - val_accuracy: 0.5000\n",
            "Epoch 30/100\n",
            "3/3 [==============================] - 0s 21ms/step - loss: 7.7125 - accuracy: 0.5000 - val_loss: 7.7125 - val_accuracy: 0.5000\n",
            "Epoch 31/100\n",
            "3/3 [==============================] - 0s 22ms/step - loss: 7.7125 - accuracy: 0.5000 - val_loss: 7.7125 - val_accuracy: 0.5000\n",
            "Epoch 32/100\n",
            "3/3 [==============================] - 0s 26ms/step - loss: 7.7125 - accuracy: 0.5000 - val_loss: 7.7125 - val_accuracy: 0.5000\n",
            "Epoch 33/100\n",
            "3/3 [==============================] - 0s 24ms/step - loss: 7.7125 - accuracy: 0.5000 - val_loss: 7.7125 - val_accuracy: 0.5000\n",
            "Epoch 34/100\n",
            "3/3 [==============================] - 0s 23ms/step - loss: 7.7125 - accuracy: 0.5000 - val_loss: 7.7125 - val_accuracy: 0.5000\n",
            "Epoch 35/100\n",
            "3/3 [==============================] - 0s 28ms/step - loss: 7.7125 - accuracy: 0.5000 - val_loss: 7.7125 - val_accuracy: 0.5000\n",
            "Epoch 36/100\n",
            "3/3 [==============================] - 0s 30ms/step - loss: 7.7125 - accuracy: 0.5000 - val_loss: 7.7125 - val_accuracy: 0.5000\n",
            "Epoch 37/100\n",
            "3/3 [==============================] - 0s 30ms/step - loss: 7.7125 - accuracy: 0.5000 - val_loss: 7.7125 - val_accuracy: 0.5000\n",
            "Epoch 38/100\n",
            "3/3 [==============================] - 0s 31ms/step - loss: 7.7125 - accuracy: 0.5000 - val_loss: 7.7125 - val_accuracy: 0.5000\n",
            "Epoch 39/100\n",
            "3/3 [==============================] - 0s 32ms/step - loss: 7.7125 - accuracy: 0.5000 - val_loss: 7.7125 - val_accuracy: 0.5000\n",
            "Epoch 40/100\n",
            "3/3 [==============================] - 0s 22ms/step - loss: 7.7125 - accuracy: 0.5000 - val_loss: 7.7125 - val_accuracy: 0.5000\n",
            "Epoch 41/100\n",
            "3/3 [==============================] - 0s 32ms/step - loss: 7.7125 - accuracy: 0.5000 - val_loss: 7.7125 - val_accuracy: 0.5000\n",
            "Epoch 42/100\n",
            "3/3 [==============================] - 0s 31ms/step - loss: 7.7125 - accuracy: 0.5000 - val_loss: 7.7125 - val_accuracy: 0.5000\n",
            "Epoch 43/100\n",
            "3/3 [==============================] - 0s 25ms/step - loss: 7.7125 - accuracy: 0.5000 - val_loss: 7.7125 - val_accuracy: 0.5000\n",
            "Epoch 44/100\n",
            "3/3 [==============================] - 0s 28ms/step - loss: 7.7125 - accuracy: 0.5000 - val_loss: 7.7125 - val_accuracy: 0.5000\n",
            "Epoch 45/100\n",
            "3/3 [==============================] - 0s 28ms/step - loss: 7.7125 - accuracy: 0.5000 - val_loss: 7.7125 - val_accuracy: 0.5000\n",
            "Epoch 46/100\n",
            "3/3 [==============================] - 0s 30ms/step - loss: 7.7125 - accuracy: 0.5000 - val_loss: 7.7125 - val_accuracy: 0.5000\n",
            "Epoch 47/100\n",
            "3/3 [==============================] - 0s 30ms/step - loss: 7.7125 - accuracy: 0.5000 - val_loss: 7.7125 - val_accuracy: 0.5000\n",
            "Epoch 48/100\n",
            "3/3 [==============================] - 0s 32ms/step - loss: 7.7125 - accuracy: 0.5000 - val_loss: 7.7125 - val_accuracy: 0.5000\n",
            "Epoch 49/100\n",
            "3/3 [==============================] - 0s 21ms/step - loss: 7.7125 - accuracy: 0.5000 - val_loss: 7.7125 - val_accuracy: 0.5000\n",
            "Epoch 50/100\n",
            "3/3 [==============================] - 0s 33ms/step - loss: 7.7125 - accuracy: 0.5000 - val_loss: 7.7125 - val_accuracy: 0.5000\n",
            "Epoch 51/100\n",
            "3/3 [==============================] - 0s 36ms/step - loss: 7.7125 - accuracy: 0.5000 - val_loss: 7.7125 - val_accuracy: 0.5000\n",
            "Epoch 52/100\n",
            "3/3 [==============================] - 0s 26ms/step - loss: 7.7125 - accuracy: 0.5000 - val_loss: 7.7125 - val_accuracy: 0.5000\n",
            "Epoch 53/100\n",
            "3/3 [==============================] - 0s 34ms/step - loss: 7.7125 - accuracy: 0.5000 - val_loss: 7.7125 - val_accuracy: 0.5000\n",
            "Epoch 54/100\n",
            "3/3 [==============================] - 0s 37ms/step - loss: 7.7125 - accuracy: 0.5000 - val_loss: 7.7125 - val_accuracy: 0.5000\n",
            "Epoch 55/100\n",
            "3/3 [==============================] - 0s 26ms/step - loss: 7.7125 - accuracy: 0.5000 - val_loss: 7.7125 - val_accuracy: 0.5000\n",
            "Epoch 56/100\n",
            "3/3 [==============================] - 0s 22ms/step - loss: 7.7125 - accuracy: 0.5000 - val_loss: 7.7125 - val_accuracy: 0.5000\n",
            "Epoch 57/100\n",
            "3/3 [==============================] - 0s 33ms/step - loss: 7.7125 - accuracy: 0.5000 - val_loss: 7.7125 - val_accuracy: 0.5000\n",
            "Epoch 58/100\n",
            "3/3 [==============================] - 0s 24ms/step - loss: 7.7125 - accuracy: 0.5000 - val_loss: 7.7125 - val_accuracy: 0.5000\n",
            "Epoch 59/100\n",
            "3/3 [==============================] - 0s 39ms/step - loss: 7.7125 - accuracy: 0.5000 - val_loss: 7.7125 - val_accuracy: 0.5000\n",
            "Epoch 60/100\n",
            "3/3 [==============================] - 0s 26ms/step - loss: 7.7125 - accuracy: 0.5000 - val_loss: 7.7125 - val_accuracy: 0.5000\n",
            "Epoch 61/100\n",
            "3/3 [==============================] - 0s 15ms/step - loss: 7.7125 - accuracy: 0.5000 - val_loss: 7.7125 - val_accuracy: 0.5000\n",
            "Epoch 62/100\n",
            "3/3 [==============================] - 0s 15ms/step - loss: 7.7125 - accuracy: 0.5000 - val_loss: 7.7125 - val_accuracy: 0.5000\n",
            "Epoch 63/100\n",
            "3/3 [==============================] - 0s 25ms/step - loss: 7.7125 - accuracy: 0.5000 - val_loss: 7.7125 - val_accuracy: 0.5000\n",
            "Epoch 64/100\n",
            "3/3 [==============================] - 0s 15ms/step - loss: 7.7125 - accuracy: 0.5000 - val_loss: 7.7125 - val_accuracy: 0.5000\n",
            "Epoch 65/100\n",
            "3/3 [==============================] - 0s 15ms/step - loss: 7.7125 - accuracy: 0.5000 - val_loss: 7.7125 - val_accuracy: 0.5000\n",
            "Epoch 66/100\n",
            "3/3 [==============================] - 0s 16ms/step - loss: 7.7125 - accuracy: 0.5000 - val_loss: 7.7125 - val_accuracy: 0.5000\n",
            "Epoch 67/100\n",
            "3/3 [==============================] - 0s 15ms/step - loss: 7.7125 - accuracy: 0.5000 - val_loss: 7.7125 - val_accuracy: 0.5000\n",
            "Epoch 68/100\n",
            "3/3 [==============================] - 0s 15ms/step - loss: 7.7125 - accuracy: 0.5000 - val_loss: 7.7125 - val_accuracy: 0.5000\n",
            "Epoch 69/100\n",
            "3/3 [==============================] - 0s 16ms/step - loss: 7.7125 - accuracy: 0.5000 - val_loss: 7.7125 - val_accuracy: 0.5000\n",
            "Epoch 70/100\n",
            "3/3 [==============================] - 0s 16ms/step - loss: 7.7125 - accuracy: 0.5000 - val_loss: 7.7125 - val_accuracy: 0.5000\n",
            "Epoch 71/100\n",
            "3/3 [==============================] - 0s 15ms/step - loss: 7.7125 - accuracy: 0.5000 - val_loss: 7.7125 - val_accuracy: 0.5000\n",
            "Epoch 72/100\n",
            "3/3 [==============================] - 0s 15ms/step - loss: 7.7125 - accuracy: 0.5000 - val_loss: 7.7125 - val_accuracy: 0.5000\n",
            "Epoch 73/100\n",
            "3/3 [==============================] - 0s 19ms/step - loss: 7.7125 - accuracy: 0.5000 - val_loss: 7.7125 - val_accuracy: 0.5000\n",
            "Epoch 74/100\n",
            "3/3 [==============================] - 0s 16ms/step - loss: 7.7125 - accuracy: 0.5000 - val_loss: 7.7125 - val_accuracy: 0.5000\n",
            "Epoch 75/100\n",
            "3/3 [==============================] - 0s 16ms/step - loss: 7.7125 - accuracy: 0.5000 - val_loss: 7.7125 - val_accuracy: 0.5000\n",
            "Epoch 76/100\n",
            "3/3 [==============================] - 0s 16ms/step - loss: 7.7125 - accuracy: 0.5000 - val_loss: 7.7125 - val_accuracy: 0.5000\n",
            "Epoch 77/100\n",
            "3/3 [==============================] - 0s 59ms/step - loss: 7.7125 - accuracy: 0.5000 - val_loss: 7.7125 - val_accuracy: 0.5000\n",
            "Epoch 78/100\n",
            "3/3 [==============================] - 0s 67ms/step - loss: 7.7125 - accuracy: 0.5000 - val_loss: 7.7125 - val_accuracy: 0.5000\n",
            "Epoch 79/100\n",
            "3/3 [==============================] - 0s 38ms/step - loss: 7.7125 - accuracy: 0.5000 - val_loss: 7.7125 - val_accuracy: 0.5000\n",
            "Epoch 80/100\n",
            "3/3 [==============================] - 0s 57ms/step - loss: 7.7125 - accuracy: 0.5000 - val_loss: 7.7125 - val_accuracy: 0.5000\n",
            "Epoch 81/100\n",
            "3/3 [==============================] - 0s 16ms/step - loss: 7.7125 - accuracy: 0.5000 - val_loss: 7.7125 - val_accuracy: 0.5000\n",
            "Epoch 82/100\n",
            "3/3 [==============================] - 0s 18ms/step - loss: 7.7125 - accuracy: 0.5000 - val_loss: 7.7125 - val_accuracy: 0.5000\n",
            "Epoch 83/100\n",
            "3/3 [==============================] - 0s 16ms/step - loss: 7.7125 - accuracy: 0.5000 - val_loss: 7.7125 - val_accuracy: 0.5000\n",
            "Epoch 84/100\n",
            "3/3 [==============================] - 0s 16ms/step - loss: 7.7125 - accuracy: 0.5000 - val_loss: 7.7125 - val_accuracy: 0.5000\n",
            "Epoch 85/100\n",
            "3/3 [==============================] - 0s 16ms/step - loss: 7.7125 - accuracy: 0.5000 - val_loss: 7.7125 - val_accuracy: 0.5000\n",
            "Epoch 86/100\n",
            "3/3 [==============================] - 0s 16ms/step - loss: 7.7125 - accuracy: 0.5000 - val_loss: 7.7125 - val_accuracy: 0.5000\n",
            "Epoch 87/100\n",
            "3/3 [==============================] - 0s 16ms/step - loss: 7.7125 - accuracy: 0.5000 - val_loss: 7.7125 - val_accuracy: 0.5000\n",
            "Epoch 88/100\n",
            "3/3 [==============================] - 0s 16ms/step - loss: 7.7125 - accuracy: 0.5000 - val_loss: 7.7125 - val_accuracy: 0.5000\n",
            "Epoch 89/100\n",
            "3/3 [==============================] - 0s 23ms/step - loss: 7.7125 - accuracy: 0.5000 - val_loss: 7.7125 - val_accuracy: 0.5000\n",
            "Epoch 90/100\n",
            "3/3 [==============================] - 0s 17ms/step - loss: 7.7125 - accuracy: 0.5000 - val_loss: 7.7125 - val_accuracy: 0.5000\n",
            "Epoch 91/100\n",
            "3/3 [==============================] - 0s 17ms/step - loss: 7.7125 - accuracy: 0.5000 - val_loss: 7.7125 - val_accuracy: 0.5000\n",
            "Epoch 92/100\n",
            "3/3 [==============================] - 0s 18ms/step - loss: 7.7125 - accuracy: 0.5000 - val_loss: 7.7125 - val_accuracy: 0.5000\n",
            "Epoch 93/100\n",
            "3/3 [==============================] - 0s 16ms/step - loss: 7.7125 - accuracy: 0.5000 - val_loss: 7.7125 - val_accuracy: 0.5000\n",
            "Epoch 94/100\n",
            "3/3 [==============================] - 0s 18ms/step - loss: 7.7125 - accuracy: 0.5000 - val_loss: 7.7125 - val_accuracy: 0.5000\n",
            "Epoch 95/100\n",
            "3/3 [==============================] - 0s 17ms/step - loss: 7.7125 - accuracy: 0.5000 - val_loss: 7.7125 - val_accuracy: 0.5000\n",
            "Epoch 96/100\n",
            "3/3 [==============================] - 0s 16ms/step - loss: 7.7125 - accuracy: 0.5000 - val_loss: 7.7125 - val_accuracy: 0.5000\n",
            "Epoch 97/100\n",
            "3/3 [==============================] - 0s 16ms/step - loss: 7.7125 - accuracy: 0.5000 - val_loss: 7.7125 - val_accuracy: 0.5000\n",
            "Epoch 98/100\n",
            "3/3 [==============================] - 0s 16ms/step - loss: 7.7125 - accuracy: 0.5000 - val_loss: 7.7125 - val_accuracy: 0.5000\n",
            "Epoch 99/100\n",
            "3/3 [==============================] - 0s 16ms/step - loss: 7.7125 - accuracy: 0.5000 - val_loss: 7.7125 - val_accuracy: 0.5000\n",
            "Epoch 100/100\n",
            "3/3 [==============================] - 0s 15ms/step - loss: 7.7125 - accuracy: 0.5000 - val_loss: 7.7125 - val_accuracy: 0.5000\n"
          ]
        }
      ]
    },
    {
      "cell_type": "code",
      "source": [
        "model.get_weights()"
      ],
      "metadata": {
        "colab": {
          "base_uri": "https://localhost:8080/"
        },
        "id": "PrfcoXke8r88",
        "outputId": "4df24cc8-7ad5-459b-b067-b958f2389470"
      },
      "execution_count": 17,
      "outputs": [
        {
          "output_type": "execute_result",
          "data": {
            "text/plain": [
              "[array([[0., 0., 0., 0., 0., 0., 0., 0., 0., 0.],\n",
              "        [0., 0., 0., 0., 0., 0., 0., 0., 0., 0.]], dtype=float32),\n",
              " array([0., 0., 0., 0., 0., 0., 0., 0., 0., 0.], dtype=float32),\n",
              " array([[0.],\n",
              "        [0.],\n",
              "        [0.],\n",
              "        [0.],\n",
              "        [0.],\n",
              "        [0.],\n",
              "        [0.],\n",
              "        [0.],\n",
              "        [0.],\n",
              "        [0.]], dtype=float32),\n",
              " array([0.], dtype=float32)]"
            ]
          },
          "metadata": {},
          "execution_count": 17
        }
      ]
    },
    {
      "cell_type": "markdown",
      "source": [
        "Here you can after training our model the weight still zero"
      ],
      "metadata": {
        "id": "IrOBh5I99JqM"
      }
    },
    {
      "cell_type": "code",
      "source": [
        "from mlxtend.plotting import plot_decision_regions\n",
        "plot_decision_regions(X,y.astype('int'), clf=model, legend=2)"
      ],
      "metadata": {
        "colab": {
          "base_uri": "https://localhost:8080/",
          "height": 465
        },
        "id": "421W4mBo8whf",
        "outputId": "29cc27f3-36ac-4f08-997f-fd04b3a1159d"
      },
      "execution_count": 18,
      "outputs": [
        {
          "output_type": "stream",
          "name": "stdout",
          "text": [
            "9600/9600 [==============================] - 12s 1ms/step\n"
          ]
        },
        {
          "output_type": "execute_result",
          "data": {
            "text/plain": [
              "<Axes: >"
            ]
          },
          "metadata": {},
          "execution_count": 18
        },
        {
          "output_type": "display_data",
          "data": {
            "text/plain": [
              "<Figure size 640x480 with 1 Axes>"
            ],
            "image/png": "[encoded data removed]"
          },
          "metadata": {}
        }
      ]
    },
    {
      "cell_type": "markdown",
      "source": [
        "### Train our model using Tanh as an activation function"
      ],
      "metadata": {
        "id": "gNlc-_kC95Jb"
      }
    },
    {
      "cell_type": "code",
      "source": [
        "model = Sequential()\n",
        "\n",
        "model.add(Dense(10,activation='tanh',input_dim=2))\n",
        "model.add(Dense(1,activation='sigmoid'))\n",
        "\n",
        "model.summary()\n"
      ],
      "metadata": {
        "colab": {
          "base_uri": "https://localhost:8080/"
        },
        "id": "LrfioGtl80Ai",
        "outputId": "c7da5b77-b920-4649-a07d-e77bbfce716f"
      },
      "execution_count": 19,
      "outputs": [
        {
          "output_type": "stream",
          "name": "stdout",
          "text": [
            "Model: \"sequential_2\"\n",
            "_________________________________________________________________\n",
            " Layer (type)                Output Shape              Param #   \n",
            "=================================================================\n",
            " dense_4 (Dense)             (None, 10)                30        \n",
            "                                                                 \n",
            " dense_5 (Dense)             (None, 1)                 11        \n",
            "                                                                 \n",
            "=================================================================\n",
            "Total params: 41 (164.00 Byte)\n",
            "Trainable params: 41 (164.00 Byte)\n",
            "Non-trainable params: 0 (0.00 Byte)\n",
            "_________________________________________________________________\n"
          ]
        }
      ]
    },
    {
      "cell_type": "code",
      "source": [
        "# Set parameters to 0\n",
        "model.get_weights()"
      ],
      "metadata": {
        "colab": {
          "base_uri": "https://localhost:8080/"
        },
        "id": "AyxB2NQT-Sqz",
        "outputId": "192a0882-3c9a-4fa9-e972-0131f0d7d7f4"
      },
      "execution_count": 20,
      "outputs": [
        {
          "output_type": "execute_result",
          "data": {
            "text/plain": [
              "[array([[-0.5228236 ,  0.24087983,  0.43183082,  0.26655602, -0.64085853,\n",
              "         -0.6782731 ,  0.22461873, -0.65507394, -0.6962841 , -0.60484535],\n",
              "        [ 0.3997652 ,  0.70668036,  0.3335331 , -0.54560137, -0.19680572,\n",
              "         -0.25995266,  0.49836558,  0.30732757, -0.7031131 ,  0.19595724]],\n",
              "       dtype=float32),\n",
              " array([0., 0., 0., 0., 0., 0., 0., 0., 0., 0.], dtype=float32),\n",
              " array([[ 0.0672996 ],\n",
              "        [ 0.01031905],\n",
              "        [-0.30455768],\n",
              "        [ 0.6234308 ],\n",
              "        [ 0.26977605],\n",
              "        [ 0.58535546],\n",
              "        [-0.69846964],\n",
              "        [ 0.24158412],\n",
              "        [-0.1420396 ],\n",
              "        [ 0.31658965]], dtype=float32),\n",
              " array([0.], dtype=float32)]"
            ]
          },
          "metadata": {},
          "execution_count": 20
        }
      ]
    },
    {
      "cell_type": "code",
      "source": [
        "initial_weights = model.get_weights()"
      ],
      "metadata": {
        "id": "i-zc5h6B-YWO"
      },
      "execution_count": 21,
      "outputs": []
    },
    {
      "cell_type": "code",
      "source": [
        "initial_weights[0] = np.zeros(model.get_weights()[0].shape)\n",
        "initial_weights[1] = np.zeros(model.get_weights()[1].shape)\n",
        "initial_weights[2] = np.zeros(model.get_weights()[2].shape)\n",
        "initial_weights[3] = np.zeros(model.get_weights()[3].shape)"
      ],
      "metadata": {
        "id": "SfS2X8yB-cKc"
      },
      "execution_count": 22,
      "outputs": []
    },
    {
      "cell_type": "code",
      "source": [
        "model.set_weights(initial_weights)"
      ],
      "metadata": {
        "id": "fN8K1qSV-d42"
      },
      "execution_count": 23,
      "outputs": []
    },
    {
      "cell_type": "code",
      "source": [
        "model.get_weights()"
      ],
      "metadata": {
        "colab": {
          "base_uri": "https://localhost:8080/"
        },
        "id": "WQWbmSkt-f36",
        "outputId": "3da80a4b-d041-4529-f4e3-eae33ab64c12"
      },
      "execution_count": 24,
      "outputs": [
        {
          "output_type": "execute_result",
          "data": {
            "text/plain": [
              "[array([[0., 0., 0., 0., 0., 0., 0., 0., 0., 0.],\n",
              "        [0., 0., 0., 0., 0., 0., 0., 0., 0., 0.]], dtype=float32),\n",
              " array([0., 0., 0., 0., 0., 0., 0., 0., 0., 0.], dtype=float32),\n",
              " array([[0.],\n",
              "        [0.],\n",
              "        [0.],\n",
              "        [0.],\n",
              "        [0.],\n",
              "        [0.],\n",
              "        [0.],\n",
              "        [0.],\n",
              "        [0.],\n",
              "        [0.]], dtype=float32),\n",
              " array([0.], dtype=float32)]"
            ]
          },
          "metadata": {},
          "execution_count": 24
        }
      ]
    },
    {
      "cell_type": "code",
      "source": [
        "model.compile(loss='binary_crossentropy',optimizer='adam',metrics=['accuracy'])"
      ],
      "metadata": {
        "id": "mhu3Llqu-h0Y"
      },
      "execution_count": 25,
      "outputs": []
    },
    {
      "cell_type": "code",
      "source": [
        "history = model.fit(X,y,epochs=100,validation_split=0.2)"
      ],
      "metadata": {
        "colab": {
          "base_uri": "https://localhost:8080/"
        },
        "collapsed": true,
        "id": "WEaoTN5S-kAI",
        "outputId": "b79f3584-d82c-4f2f-bc56-f631e660ccf9"
      },
      "execution_count": 26,
      "outputs": [
        {
          "output_type": "stream",
          "name": "stdout",
          "text": [
            "Epoch 1/100\n",
            "3/3 [==============================] - 2s 187ms/step - loss: 0.6932 - accuracy: 0.4500 - val_loss: 0.6931 - val_accuracy: 0.5000\n",
            "Epoch 2/100\n",
            "3/3 [==============================] - 0s 33ms/step - loss: 0.6932 - accuracy: 0.5000 - val_loss: 0.6931 - val_accuracy: 0.5000\n",
            "Epoch 3/100\n",
            "3/3 [==============================] - 0s 31ms/step - loss: 0.6931 - accuracy: 0.5000 - val_loss: 0.6931 - val_accuracy: 0.5000\n",
            "Epoch 4/100\n",
            "3/3 [==============================] - 0s 22ms/step - loss: 0.6931 - accuracy: 0.5000 - val_loss: 0.6931 - val_accuracy: 0.5000\n",
            "Epoch 5/100\n",
            "3/3 [==============================] - 0s 26ms/step - loss: 0.6932 - accuracy: 0.5000 - val_loss: 0.6931 - val_accuracy: 0.5000\n",
            "Epoch 6/100\n",
            "3/3 [==============================] - 0s 33ms/step - loss: 0.6932 - accuracy: 0.5000 - val_loss: 0.6931 - val_accuracy: 0.5000\n",
            "Epoch 7/100\n",
            "3/3 [==============================] - 0s 33ms/step - loss: 0.6932 - accuracy: 0.5000 - val_loss: 0.6931 - val_accuracy: 0.5000\n",
            "Epoch 8/100\n",
            "3/3 [==============================] - 0s 31ms/step - loss: 0.6932 - accuracy: 0.5000 - val_loss: 0.6931 - val_accuracy: 0.5000\n",
            "Epoch 9/100\n",
            "3/3 [==============================] - 0s 25ms/step - loss: 0.6931 - accuracy: 0.5000 - val_loss: 0.6931 - val_accuracy: 0.5000\n",
            "Epoch 10/100\n",
            "3/3 [==============================] - 0s 31ms/step - loss: 0.6932 - accuracy: 0.5000 - val_loss: 0.6931 - val_accuracy: 0.5000\n",
            "Epoch 11/100\n",
            "3/3 [==============================] - 0s 38ms/step - loss: 0.6931 - accuracy: 0.5000 - val_loss: 0.6931 - val_accuracy: 0.5000\n",
            "Epoch 12/100\n",
            "3/3 [==============================] - 0s 29ms/step - loss: 0.6931 - accuracy: 0.5000 - val_loss: 0.6931 - val_accuracy: 0.5000\n",
            "Epoch 13/100\n",
            "3/3 [==============================] - 0s 34ms/step - loss: 0.6931 - accuracy: 0.5000 - val_loss: 0.6931 - val_accuracy: 0.5000\n",
            "Epoch 14/100\n",
            "3/3 [==============================] - 0s 33ms/step - loss: 0.6932 - accuracy: 0.5000 - val_loss: 0.6931 - val_accuracy: 0.5000\n",
            "Epoch 15/100\n",
            "3/3 [==============================] - 0s 23ms/step - loss: 0.6931 - accuracy: 0.5000 - val_loss: 0.6931 - val_accuracy: 0.5000\n",
            "Epoch 16/100\n",
            "3/3 [==============================] - 0s 24ms/step - loss: 0.6932 - accuracy: 0.5000 - val_loss: 0.6931 - val_accuracy: 0.5000\n",
            "Epoch 17/100\n",
            "3/3 [==============================] - 0s 33ms/step - loss: 0.6932 - accuracy: 0.5000 - val_loss: 0.6931 - val_accuracy: 0.5000\n",
            "Epoch 18/100\n",
            "3/3 [==============================] - 0s 19ms/step - loss: 0.6931 - accuracy: 0.5000 - val_loss: 0.6931 - val_accuracy: 0.5000\n",
            "Epoch 19/100\n",
            "3/3 [==============================] - 0s 18ms/step - loss: 0.6932 - accuracy: 0.5000 - val_loss: 0.6931 - val_accuracy: 0.5000\n",
            "Epoch 20/100\n",
            "3/3 [==============================] - 0s 15ms/step - loss: 0.6931 - accuracy: 0.5000 - val_loss: 0.6931 - val_accuracy: 0.5000\n",
            "Epoch 21/100\n",
            "3/3 [==============================] - 0s 15ms/step - loss: 0.6931 - accuracy: 0.5000 - val_loss: 0.6931 - val_accuracy: 0.5000\n",
            "Epoch 22/100\n",
            "3/3 [==============================] - 0s 16ms/step - loss: 0.6932 - accuracy: 0.5000 - val_loss: 0.6932 - val_accuracy: 0.5000\n",
            "Epoch 23/100\n",
            "3/3 [==============================] - 0s 18ms/step - loss: 0.6932 - accuracy: 0.5000 - val_loss: 0.6932 - val_accuracy: 0.5000\n",
            "Epoch 24/100\n",
            "3/3 [==============================] - 0s 15ms/step - loss: 0.6932 - accuracy: 0.5000 - val_loss: 0.6932 - val_accuracy: 0.5000\n",
            "Epoch 25/100\n",
            "3/3 [==============================] - 0s 15ms/step - loss: 0.6932 - accuracy: 0.5000 - val_loss: 0.6932 - val_accuracy: 0.5000\n",
            "Epoch 26/100\n",
            "3/3 [==============================] - 0s 15ms/step - loss: 0.6932 - accuracy: 0.5000 - val_loss: 0.6932 - val_accuracy: 0.5000\n",
            "Epoch 27/100\n",
            "3/3 [==============================] - 0s 15ms/step - loss: 0.6932 - accuracy: 0.5000 - val_loss: 0.6932 - val_accuracy: 0.5000\n",
            "Epoch 28/100\n",
            "3/3 [==============================] - 0s 15ms/step - loss: 0.6932 - accuracy: 0.5000 - val_loss: 0.6931 - val_accuracy: 0.5000\n",
            "Epoch 29/100\n",
            "3/3 [==============================] - 0s 15ms/step - loss: 0.6932 - accuracy: 0.5000 - val_loss: 0.6931 - val_accuracy: 0.5000\n",
            "Epoch 30/100\n",
            "3/3 [==============================] - 0s 16ms/step - loss: 0.6931 - accuracy: 0.5000 - val_loss: 0.6931 - val_accuracy: 0.5000\n",
            "Epoch 31/100\n",
            "3/3 [==============================] - 0s 16ms/step - loss: 0.6932 - accuracy: 0.5000 - val_loss: 0.6931 - val_accuracy: 0.5000\n",
            "Epoch 32/100\n",
            "3/3 [==============================] - 0s 16ms/step - loss: 0.6931 - accuracy: 0.5000 - val_loss: 0.6931 - val_accuracy: 0.5000\n",
            "Epoch 33/100\n",
            "3/3 [==============================] - 0s 15ms/step - loss: 0.6932 - accuracy: 0.5000 - val_loss: 0.6931 - val_accuracy: 0.5000\n",
            "Epoch 34/100\n",
            "3/3 [==============================] - 0s 15ms/step - loss: 0.6932 - accuracy: 0.5000 - val_loss: 0.6931 - val_accuracy: 0.5000\n",
            "Epoch 35/100\n",
            "3/3 [==============================] - 0s 20ms/step - loss: 0.6931 - accuracy: 0.5000 - val_loss: 0.6931 - val_accuracy: 0.5000\n",
            "Epoch 36/100\n",
            "3/3 [==============================] - 0s 15ms/step - loss: 0.6932 - accuracy: 0.5000 - val_loss: 0.6931 - val_accuracy: 0.5000\n",
            "Epoch 37/100\n",
            "3/3 [==============================] - 0s 16ms/step - loss: 0.6932 - accuracy: 0.5000 - val_loss: 0.6931 - val_accuracy: 0.5000\n",
            "Epoch 38/100\n",
            "3/3 [==============================] - 0s 15ms/step - loss: 0.6932 - accuracy: 0.5000 - val_loss: 0.6931 - val_accuracy: 0.5000\n",
            "Epoch 39/100\n",
            "3/3 [==============================] - 0s 16ms/step - loss: 0.6932 - accuracy: 0.5000 - val_loss: 0.6931 - val_accuracy: 0.5000\n",
            "Epoch 40/100\n",
            "3/3 [==============================] - 0s 15ms/step - loss: 0.6932 - accuracy: 0.5000 - val_loss: 0.6931 - val_accuracy: 0.5000\n",
            "Epoch 41/100\n",
            "3/3 [==============================] - 0s 15ms/step - loss: 0.6932 - accuracy: 0.5000 - val_loss: 0.6931 - val_accuracy: 0.5000\n",
            "Epoch 42/100\n",
            "3/3 [==============================] - 0s 15ms/step - loss: 0.6932 - accuracy: 0.5000 - val_loss: 0.6931 - val_accuracy: 0.5000\n",
            "Epoch 43/100\n",
            "3/3 [==============================] - 0s 16ms/step - loss: 0.6931 - accuracy: 0.5000 - val_loss: 0.6931 - val_accuracy: 0.5000\n",
            "Epoch 44/100\n",
            "3/3 [==============================] - 0s 17ms/step - loss: 0.6932 - accuracy: 0.5000 - val_loss: 0.6931 - val_accuracy: 0.5000\n",
            "Epoch 45/100\n",
            "3/3 [==============================] - 0s 15ms/step - loss: 0.6932 - accuracy: 0.5000 - val_loss: 0.6931 - val_accuracy: 0.5000\n",
            "Epoch 46/100\n",
            "3/3 [==============================] - 0s 15ms/step - loss: 0.6931 - accuracy: 0.5000 - val_loss: 0.6931 - val_accuracy: 0.5000\n",
            "Epoch 47/100\n",
            "3/3 [==============================] - 0s 15ms/step - loss: 0.6931 - accuracy: 0.5000 - val_loss: 0.6931 - val_accuracy: 0.5000\n",
            "Epoch 48/100\n",
            "3/3 [==============================] - 0s 15ms/step - loss: 0.6932 - accuracy: 0.5000 - val_loss: 0.6931 - val_accuracy: 0.5000\n",
            "Epoch 49/100\n",
            "3/3 [==============================] - 0s 15ms/step - loss: 0.6931 - accuracy: 0.5000 - val_loss: 0.6931 - val_accuracy: 0.5000\n",
            "Epoch 50/100\n",
            "3/3 [==============================] - 0s 16ms/step - loss: 0.6932 - accuracy: 0.5000 - val_loss: 0.6931 - val_accuracy: 0.5000\n",
            "Epoch 51/100\n",
            "3/3 [==============================] - 0s 18ms/step - loss: 0.6932 - accuracy: 0.5000 - val_loss: 0.6931 - val_accuracy: 0.5000\n",
            "Epoch 52/100\n",
            "3/3 [==============================] - 0s 17ms/step - loss: 0.6932 - accuracy: 0.5000 - val_loss: 0.6931 - val_accuracy: 0.5000\n",
            "Epoch 53/100\n",
            "3/3 [==============================] - 0s 17ms/step - loss: 0.6931 - accuracy: 0.5000 - val_loss: 0.6931 - val_accuracy: 0.5000\n",
            "Epoch 54/100\n",
            "3/3 [==============================] - 0s 16ms/step - loss: 0.6931 - accuracy: 0.5000 - val_loss: 0.6931 - val_accuracy: 0.5000\n",
            "Epoch 55/100\n",
            "3/3 [==============================] - 0s 17ms/step - loss: 0.6932 - accuracy: 0.5000 - val_loss: 0.6931 - val_accuracy: 0.5000\n",
            "Epoch 56/100\n",
            "3/3 [==============================] - 0s 16ms/step - loss: 0.6932 - accuracy: 0.5000 - val_loss: 0.6931 - val_accuracy: 0.5000\n",
            "Epoch 57/100\n",
            "3/3 [==============================] - 0s 16ms/step - loss: 0.6932 - accuracy: 0.5000 - val_loss: 0.6931 - val_accuracy: 0.5000\n",
            "Epoch 58/100\n",
            "3/3 [==============================] - 0s 16ms/step - loss: 0.6931 - accuracy: 0.5000 - val_loss: 0.6931 - val_accuracy: 0.5000\n",
            "Epoch 59/100\n",
            "3/3 [==============================] - 0s 16ms/step - loss: 0.6932 - accuracy: 0.5000 - val_loss: 0.6931 - val_accuracy: 0.5000\n",
            "Epoch 60/100\n",
            "3/3 [==============================] - 0s 19ms/step - loss: 0.6931 - accuracy: 0.5000 - val_loss: 0.6931 - val_accuracy: 0.5000\n",
            "Epoch 61/100\n",
            "3/3 [==============================] - 0s 16ms/step - loss: 0.6931 - accuracy: 0.5000 - val_loss: 0.6931 - val_accuracy: 0.5000\n",
            "Epoch 62/100\n",
            "3/3 [==============================] - 0s 25ms/step - loss: 0.6932 - accuracy: 0.5000 - val_loss: 0.6931 - val_accuracy: 0.5000\n",
            "Epoch 63/100\n",
            "3/3 [==============================] - 0s 17ms/step - loss: 0.6932 - accuracy: 0.5000 - val_loss: 0.6931 - val_accuracy: 0.5000\n",
            "Epoch 64/100\n",
            "3/3 [==============================] - 0s 15ms/step - loss: 0.6932 - accuracy: 0.5000 - val_loss: 0.6931 - val_accuracy: 0.5000\n",
            "Epoch 65/100\n",
            "3/3 [==============================] - 0s 16ms/step - loss: 0.6931 - accuracy: 0.5000 - val_loss: 0.6931 - val_accuracy: 0.5000\n",
            "Epoch 66/100\n",
            "3/3 [==============================] - 0s 15ms/step - loss: 0.6932 - accuracy: 0.5000 - val_loss: 0.6931 - val_accuracy: 0.5000\n",
            "Epoch 67/100\n",
            "3/3 [==============================] - 0s 17ms/step - loss: 0.6932 - accuracy: 0.5000 - val_loss: 0.6931 - val_accuracy: 0.5000\n",
            "Epoch 68/100\n",
            "3/3 [==============================] - 0s 15ms/step - loss: 0.6932 - accuracy: 0.5000 - val_loss: 0.6931 - val_accuracy: 0.5000\n",
            "Epoch 69/100\n",
            "3/3 [==============================] - 0s 15ms/step - loss: 0.6932 - accuracy: 0.5000 - val_loss: 0.6931 - val_accuracy: 0.5000\n",
            "Epoch 70/100\n",
            "3/3 [==============================] - 0s 15ms/step - loss: 0.6932 - accuracy: 0.5000 - val_loss: 0.6931 - val_accuracy: 0.5000\n",
            "Epoch 71/100\n",
            "3/3 [==============================] - 0s 15ms/step - loss: 0.6932 - accuracy: 0.5000 - val_loss: 0.6931 - val_accuracy: 0.5000\n",
            "Epoch 72/100\n",
            "3/3 [==============================] - 0s 15ms/step - loss: 0.6932 - accuracy: 0.5000 - val_loss: 0.6931 - val_accuracy: 0.5000\n",
            "Epoch 73/100\n",
            "3/3 [==============================] - 0s 15ms/step - loss: 0.6931 - accuracy: 0.5000 - val_loss: 0.6931 - val_accuracy: 0.5000\n",
            "Epoch 74/100\n",
            "3/3 [==============================] - 0s 18ms/step - loss: 0.6932 - accuracy: 0.5000 - val_loss: 0.6931 - val_accuracy: 0.5000\n",
            "Epoch 75/100\n",
            "3/3 [==============================] - 0s 16ms/step - loss: 0.6932 - accuracy: 0.5000 - val_loss: 0.6931 - val_accuracy: 0.5000\n",
            "Epoch 76/100\n",
            "3/3 [==============================] - 0s 17ms/step - loss: 0.6931 - accuracy: 0.5000 - val_loss: 0.6931 - val_accuracy: 0.5000\n",
            "Epoch 77/100\n",
            "3/3 [==============================] - 0s 16ms/step - loss: 0.6932 - accuracy: 0.5000 - val_loss: 0.6931 - val_accuracy: 0.5000\n",
            "Epoch 78/100\n",
            "3/3 [==============================] - 0s 16ms/step - loss: 0.6931 - accuracy: 0.5000 - val_loss: 0.6931 - val_accuracy: 0.5000\n",
            "Epoch 79/100\n",
            "3/3 [==============================] - 0s 16ms/step - loss: 0.6932 - accuracy: 0.5000 - val_loss: 0.6931 - val_accuracy: 0.5000\n",
            "Epoch 80/100\n",
            "3/3 [==============================] - 0s 16ms/step - loss: 0.6932 - accuracy: 0.5000 - val_loss: 0.6931 - val_accuracy: 0.5000\n",
            "Epoch 81/100\n",
            "3/3 [==============================] - 0s 17ms/step - loss: 0.6932 - accuracy: 0.5000 - val_loss: 0.6931 - val_accuracy: 0.5000\n",
            "Epoch 82/100\n",
            "3/3 [==============================] - 0s 17ms/step - loss: 0.6932 - accuracy: 0.5000 - val_loss: 0.6931 - val_accuracy: 0.5000\n",
            "Epoch 83/100\n",
            "3/3 [==============================] - 0s 15ms/step - loss: 0.6932 - accuracy: 0.5000 - val_loss: 0.6931 - val_accuracy: 0.5000\n",
            "Epoch 84/100\n",
            "3/3 [==============================] - 0s 21ms/step - loss: 0.6932 - accuracy: 0.5000 - val_loss: 0.6931 - val_accuracy: 0.5000\n",
            "Epoch 85/100\n",
            "3/3 [==============================] - 0s 16ms/step - loss: 0.6932 - accuracy: 0.5000 - val_loss: 0.6931 - val_accuracy: 0.5000\n",
            "Epoch 86/100\n",
            "3/3 [==============================] - 0s 16ms/step - loss: 0.6932 - accuracy: 0.5000 - val_loss: 0.6931 - val_accuracy: 0.5000\n",
            "Epoch 87/100\n",
            "3/3 [==============================] - 0s 16ms/step - loss: 0.6932 - accuracy: 0.5000 - val_loss: 0.6931 - val_accuracy: 0.5000\n",
            "Epoch 88/100\n",
            "3/3 [==============================] - 0s 17ms/step - loss: 0.6932 - accuracy: 0.5000 - val_loss: 0.6931 - val_accuracy: 0.5000\n",
            "Epoch 89/100\n",
            "3/3 [==============================] - 0s 16ms/step - loss: 0.6932 - accuracy: 0.5000 - val_loss: 0.6931 - val_accuracy: 0.5000\n",
            "Epoch 90/100\n",
            "3/3 [==============================] - 0s 16ms/step - loss: 0.6932 - accuracy: 0.5000 - val_loss: 0.6931 - val_accuracy: 0.5000\n",
            "Epoch 91/100\n",
            "3/3 [==============================] - 0s 15ms/step - loss: 0.6931 - accuracy: 0.5000 - val_loss: 0.6931 - val_accuracy: 0.5000\n",
            "Epoch 92/100\n",
            "3/3 [==============================] - 0s 15ms/step - loss: 0.6931 - accuracy: 0.5000 - val_loss: 0.6931 - val_accuracy: 0.5000\n",
            "Epoch 93/100\n",
            "3/3 [==============================] - 0s 16ms/step - loss: 0.6932 - accuracy: 0.5000 - val_loss: 0.6931 - val_accuracy: 0.5000\n",
            "Epoch 94/100\n",
            "3/3 [==============================] - 0s 15ms/step - loss: 0.6931 - accuracy: 0.5000 - val_loss: 0.6931 - val_accuracy: 0.5000\n",
            "Epoch 95/100\n",
            "3/3 [==============================] - 0s 16ms/step - loss: 0.6932 - accuracy: 0.5000 - val_loss: 0.6931 - val_accuracy: 0.5000\n",
            "Epoch 96/100\n",
            "3/3 [==============================] - 0s 16ms/step - loss: 0.6932 - accuracy: 0.5000 - val_loss: 0.6931 - val_accuracy: 0.5000\n",
            "Epoch 97/100\n",
            "3/3 [==============================] - 0s 16ms/step - loss: 0.6931 - accuracy: 0.5000 - val_loss: 0.6931 - val_accuracy: 0.5000\n",
            "Epoch 98/100\n",
            "3/3 [==============================] - 0s 16ms/step - loss: 0.6932 - accuracy: 0.5000 - val_loss: 0.6931 - val_accuracy: 0.5000\n",
            "Epoch 99/100\n",
            "3/3 [==============================] - 0s 16ms/step - loss: 0.6932 - accuracy: 0.5000 - val_loss: 0.6931 - val_accuracy: 0.5000\n",
            "Epoch 100/100\n",
            "3/3 [==============================] - 0s 17ms/step - loss: 0.6932 - accuracy: 0.5000 - val_loss: 0.6931 - val_accuracy: 0.5000\n"
          ]
        }
      ]
    },
    {
      "cell_type": "code",
      "source": [
        "model.get_weights()"
      ],
      "metadata": {
        "colab": {
          "base_uri": "https://localhost:8080/"
        },
        "id": "O2L2Fa5G-mCf",
        "outputId": "f2970a6f-97b6-4d27-e50e-a84a220d4d34"
      },
      "execution_count": 27,
      "outputs": [
        {
          "output_type": "execute_result",
          "data": {
            "text/plain": [
              "[array([[0., 0., 0., 0., 0., 0., 0., 0., 0., 0.],\n",
              "        [0., 0., 0., 0., 0., 0., 0., 0., 0., 0.]], dtype=float32),\n",
              " array([0., 0., 0., 0., 0., 0., 0., 0., 0., 0.], dtype=float32),\n",
              " array([[0.],\n",
              "        [0.],\n",
              "        [0.],\n",
              "        [0.],\n",
              "        [0.],\n",
              "        [0.],\n",
              "        [0.],\n",
              "        [0.],\n",
              "        [0.],\n",
              "        [0.]], dtype=float32),\n",
              " array([0.0029357], dtype=float32)]"
            ]
          },
          "metadata": {},
          "execution_count": 27
        }
      ]
    },
    {
      "cell_type": "code",
      "source": [
        "from mlxtend.plotting import plot_decision_regions\n",
        "plot_decision_regions(X,y.astype('int'), clf=model, legend=2)"
      ],
      "metadata": {
        "colab": {
          "base_uri": "https://localhost:8080/",
          "height": 465
        },
        "id": "qQtouF4u-qpz",
        "outputId": "63f246b2-fd94-4da3-df71-bfcf4f232c92"
      },
      "execution_count": 28,
      "outputs": [
        {
          "output_type": "stream",
          "name": "stdout",
          "text": [
            "9600/9600 [==============================] - 13s 1ms/step\n"
          ]
        },
        {
          "output_type": "execute_result",
          "data": {
            "text/plain": [
              "<Axes: >"
            ]
          },
          "metadata": {},
          "execution_count": 28
        },
        {
          "output_type": "display_data",
          "data": {
            "text/plain": [
              "<Figure size 640x480 with 1 Axes>"
            ],
            "image/png": "[encoded data removed]"
          },
          "metadata": {}
        }
      ]
    },
    {
      "cell_type": "markdown",
      "source": [
        "### Let's do for Sigmoid"
      ],
      "metadata": {
        "id": "FHBOKqkg-yVM"
      }
    },
    {
      "cell_type": "code",
      "source": [
        "model = Sequential()\n",
        "\n",
        "model.add(Dense(10,activation='sigmoid',input_dim=2))\n",
        "model.add(Dense(1,activation='sigmoid'))\n",
        "\n",
        "model.summary()"
      ],
      "metadata": {
        "colab": {
          "base_uri": "https://localhost:8080/"
        },
        "id": "6ZG6yb9F-s9A",
        "outputId": "3980b857-318a-4c5f-b92d-85f1161c4e0d"
      },
      "execution_count": 29,
      "outputs": [
        {
          "output_type": "stream",
          "name": "stdout",
          "text": [
            "Model: \"sequential_3\"\n",
            "_________________________________________________________________\n",
            " Layer (type)                Output Shape              Param #   \n",
            "=================================================================\n",
            " dense_6 (Dense)             (None, 10)                30        \n",
            "                                                                 \n",
            " dense_7 (Dense)             (None, 1)                 11        \n",
            "                                                                 \n",
            "=================================================================\n",
            "Total params: 41 (164.00 Byte)\n",
            "Trainable params: 41 (164.00 Byte)\n",
            "Non-trainable params: 0 (0.00 Byte)\n",
            "_________________________________________________________________\n"
          ]
        }
      ]
    },
    {
      "cell_type": "code",
      "source": [
        "# Set parameters to 0\n",
        "model.get_weights()"
      ],
      "metadata": {
        "colab": {
          "base_uri": "https://localhost:8080/"
        },
        "id": "qVEz1_Oh-1me",
        "outputId": "2218cdc8-d8f7-434e-9ef0-83a6f6385029"
      },
      "execution_count": 30,
      "outputs": [
        {
          "output_type": "execute_result",
          "data": {
            "text/plain": [
              "[array([[ 0.67478126,  0.6512696 ,  0.26536041, -0.2711809 ,  0.48921746,\n",
              "          0.4618978 ,  0.34846777,  0.09960532,  0.40982264, -0.43709433],\n",
              "        [ 0.4883061 ,  0.21578711, -0.22099075, -0.20863551,  0.32071048,\n",
              "         -0.50536025,  0.06258821, -0.20452619, -0.32242575,  0.11874264]],\n",
              "       dtype=float32),\n",
              " array([0., 0., 0., 0., 0., 0., 0., 0., 0., 0.], dtype=float32),\n",
              " array([[-0.45766026],\n",
              "        [-0.34406772],\n",
              "        [-0.0643391 ],\n",
              "        [-0.01053476],\n",
              "        [-0.4177419 ],\n",
              "        [ 0.1058746 ],\n",
              "        [-0.3894061 ],\n",
              "        [ 0.00096089],\n",
              "        [ 0.5059181 ],\n",
              "        [-0.116166  ]], dtype=float32),\n",
              " array([0.], dtype=float32)]"
            ]
          },
          "metadata": {},
          "execution_count": 30
        }
      ]
    },
    {
      "cell_type": "code",
      "source": [
        "initial_weights = model.get_weights()"
      ],
      "metadata": {
        "id": "jYdxxMhM-303"
      },
      "execution_count": 31,
      "outputs": []
    },
    {
      "cell_type": "code",
      "source": [
        "initial_weights[0] = np.zeros(model.get_weights()[0].shape)\n",
        "initial_weights[1] = np.zeros(model.get_weights()[1].shape)\n",
        "initial_weights[2] = np.zeros(model.get_weights()[2].shape)\n",
        "initial_weights[3] = np.zeros(model.get_weights()[3].shape)"
      ],
      "metadata": {
        "id": "5KA6Qoy1-6Ao"
      },
      "execution_count": 32,
      "outputs": []
    },
    {
      "cell_type": "code",
      "source": [
        "model.set_weights(initial_weights)"
      ],
      "metadata": {
        "id": "n1o0OLWo-7lj"
      },
      "execution_count": 33,
      "outputs": []
    },
    {
      "cell_type": "code",
      "source": [
        "model.get_weights()"
      ],
      "metadata": {
        "colab": {
          "base_uri": "https://localhost:8080/"
        },
        "id": "1qy5DBL6-9Kz",
        "outputId": "75f8da23-2792-478c-c760-e981d1b8d562"
      },
      "execution_count": 34,
      "outputs": [
        {
          "output_type": "execute_result",
          "data": {
            "text/plain": [
              "[array([[0., 0., 0., 0., 0., 0., 0., 0., 0., 0.],\n",
              "        [0., 0., 0., 0., 0., 0., 0., 0., 0., 0.]], dtype=float32),\n",
              " array([0., 0., 0., 0., 0., 0., 0., 0., 0., 0.], dtype=float32),\n",
              " array([[0.],\n",
              "        [0.],\n",
              "        [0.],\n",
              "        [0.],\n",
              "        [0.],\n",
              "        [0.],\n",
              "        [0.],\n",
              "        [0.],\n",
              "        [0.],\n",
              "        [0.]], dtype=float32),\n",
              " array([0.], dtype=float32)]"
            ]
          },
          "metadata": {},
          "execution_count": 34
        }
      ]
    },
    {
      "cell_type": "code",
      "source": [
        "model.compile(loss='binary_crossentropy',optimizer='adam',metrics=['accuracy'])"
      ],
      "metadata": {
        "id": "FQp-zzl5-_Lx"
      },
      "execution_count": 35,
      "outputs": []
    },
    {
      "cell_type": "code",
      "source": [
        "history = model.fit(X,y,epochs=100,validation_split=0.2)"
      ],
      "metadata": {
        "colab": {
          "base_uri": "https://localhost:8080/"
        },
        "collapsed": true,
        "id": "zt25fXYN_BaM",
        "outputId": "8903d566-dc9f-4adb-ac16-92f38242fb9c"
      },
      "execution_count": 36,
      "outputs": [
        {
          "output_type": "stream",
          "name": "stdout",
          "text": [
            "Epoch 1/100\n",
            "3/3 [==============================] - 1s 144ms/step - loss: 0.6934 - accuracy: 0.4250 - val_loss: 0.6931 - val_accuracy: 0.5000\n",
            "Epoch 2/100\n",
            "3/3 [==============================] - 0s 24ms/step - loss: 0.6933 - accuracy: 0.5000 - val_loss: 0.6931 - val_accuracy: 0.5000\n",
            "Epoch 3/100\n",
            "3/3 [==============================] - 0s 17ms/step - loss: 0.6932 - accuracy: 0.5000 - val_loss: 0.6931 - val_accuracy: 0.5000\n",
            "Epoch 4/100\n",
            "3/3 [==============================] - 0s 16ms/step - loss: 0.6932 - accuracy: 0.5000 - val_loss: 0.6931 - val_accuracy: 0.5000\n",
            "Epoch 5/100\n",
            "3/3 [==============================] - 0s 17ms/step - loss: 0.6932 - accuracy: 0.5000 - val_loss: 0.6931 - val_accuracy: 0.5000\n",
            "Epoch 6/100\n",
            "3/3 [==============================] - 0s 16ms/step - loss: 0.6931 - accuracy: 0.5000 - val_loss: 0.6931 - val_accuracy: 0.5000\n",
            "Epoch 7/100\n",
            "3/3 [==============================] - 0s 16ms/step - loss: 0.6932 - accuracy: 0.5000 - val_loss: 0.6931 - val_accuracy: 0.5000\n",
            "Epoch 8/100\n",
            "3/3 [==============================] - 0s 15ms/step - loss: 0.6931 - accuracy: 0.5000 - val_loss: 0.6931 - val_accuracy: 0.5000\n",
            "Epoch 9/100\n",
            "3/3 [==============================] - 0s 15ms/step - loss: 0.6932 - accuracy: 0.5000 - val_loss: 0.6931 - val_accuracy: 0.5000\n",
            "Epoch 10/100\n",
            "3/3 [==============================] - 0s 14ms/step - loss: 0.6932 - accuracy: 0.5000 - val_loss: 0.6931 - val_accuracy: 0.5000\n",
            "Epoch 11/100\n",
            "3/3 [==============================] - 0s 15ms/step - loss: 0.6931 - accuracy: 0.5000 - val_loss: 0.6931 - val_accuracy: 0.5000\n",
            "Epoch 12/100\n",
            "3/3 [==============================] - 0s 16ms/step - loss: 0.6931 - accuracy: 0.5000 - val_loss: 0.6931 - val_accuracy: 0.5000\n",
            "Epoch 13/100\n",
            "3/3 [==============================] - 0s 16ms/step - loss: 0.6931 - accuracy: 0.5000 - val_loss: 0.6930 - val_accuracy: 0.5000\n",
            "Epoch 14/100\n",
            "3/3 [==============================] - 0s 16ms/step - loss: 0.6931 - accuracy: 0.5000 - val_loss: 0.6930 - val_accuracy: 0.5000\n",
            "Epoch 15/100\n",
            "3/3 [==============================] - 0s 14ms/step - loss: 0.6931 - accuracy: 0.5000 - val_loss: 0.6930 - val_accuracy: 0.5000\n",
            "Epoch 16/100\n",
            "3/3 [==============================] - 0s 15ms/step - loss: 0.6930 - accuracy: 0.5000 - val_loss: 0.6930 - val_accuracy: 0.5000\n",
            "Epoch 17/100\n",
            "3/3 [==============================] - 0s 15ms/step - loss: 0.6930 - accuracy: 0.5000 - val_loss: 0.6929 - val_accuracy: 0.5000\n",
            "Epoch 18/100\n",
            "3/3 [==============================] - 0s 18ms/step - loss: 0.6930 - accuracy: 0.5000 - val_loss: 0.6929 - val_accuracy: 0.5000\n",
            "Epoch 19/100\n",
            "3/3 [==============================] - 0s 16ms/step - loss: 0.6930 - accuracy: 0.5000 - val_loss: 0.6929 - val_accuracy: 0.5000\n",
            "Epoch 20/100\n",
            "3/3 [==============================] - 0s 15ms/step - loss: 0.6931 - accuracy: 0.5000 - val_loss: 0.6928 - val_accuracy: 0.5000\n",
            "Epoch 21/100\n",
            "3/3 [==============================] - 0s 15ms/step - loss: 0.6929 - accuracy: 0.5000 - val_loss: 0.6928 - val_accuracy: 0.5000\n",
            "Epoch 22/100\n",
            "3/3 [==============================] - 0s 15ms/step - loss: 0.6929 - accuracy: 0.5000 - val_loss: 0.6928 - val_accuracy: 0.5000\n",
            "Epoch 23/100\n",
            "3/3 [==============================] - 0s 15ms/step - loss: 0.6929 - accuracy: 0.5000 - val_loss: 0.6927 - val_accuracy: 0.5000\n",
            "Epoch 24/100\n",
            "3/3 [==============================] - 0s 15ms/step - loss: 0.6928 - accuracy: 0.5000 - val_loss: 0.6926 - val_accuracy: 0.5000\n",
            "Epoch 25/100\n",
            "3/3 [==============================] - 0s 14ms/step - loss: 0.6928 - accuracy: 0.5000 - val_loss: 0.6926 - val_accuracy: 0.5000\n",
            "Epoch 26/100\n",
            "3/3 [==============================] - 0s 18ms/step - loss: 0.6927 - accuracy: 0.5000 - val_loss: 0.6925 - val_accuracy: 0.5000\n",
            "Epoch 27/100\n",
            "3/3 [==============================] - 0s 15ms/step - loss: 0.6927 - accuracy: 0.5000 - val_loss: 0.6924 - val_accuracy: 0.5000\n",
            "Epoch 28/100\n",
            "3/3 [==============================] - 0s 16ms/step - loss: 0.6927 - accuracy: 0.5000 - val_loss: 0.6923 - val_accuracy: 0.5000\n",
            "Epoch 29/100\n",
            "3/3 [==============================] - 0s 16ms/step - loss: 0.6925 - accuracy: 0.5000 - val_loss: 0.6922 - val_accuracy: 0.5000\n",
            "Epoch 30/100\n",
            "3/3 [==============================] - 0s 15ms/step - loss: 0.6925 - accuracy: 0.5000 - val_loss: 0.6921 - val_accuracy: 0.5000\n",
            "Epoch 31/100\n",
            "3/3 [==============================] - 0s 15ms/step - loss: 0.6924 - accuracy: 0.5000 - val_loss: 0.6920 - val_accuracy: 0.5000\n",
            "Epoch 32/100\n",
            "3/3 [==============================] - 0s 17ms/step - loss: 0.6924 - accuracy: 0.5000 - val_loss: 0.6919 - val_accuracy: 0.5000\n",
            "Epoch 33/100\n",
            "3/3 [==============================] - 0s 15ms/step - loss: 0.6923 - accuracy: 0.5000 - val_loss: 0.6918 - val_accuracy: 0.5000\n",
            "Epoch 34/100\n",
            "3/3 [==============================] - 0s 15ms/step - loss: 0.6923 - accuracy: 0.5000 - val_loss: 0.6917 - val_accuracy: 0.5000\n",
            "Epoch 35/100\n",
            "3/3 [==============================] - 0s 15ms/step - loss: 0.6921 - accuracy: 0.5000 - val_loss: 0.6916 - val_accuracy: 0.5000\n",
            "Epoch 36/100\n",
            "3/3 [==============================] - 0s 16ms/step - loss: 0.6921 - accuracy: 0.5000 - val_loss: 0.6914 - val_accuracy: 0.5000\n",
            "Epoch 37/100\n",
            "3/3 [==============================] - 0s 25ms/step - loss: 0.6920 - accuracy: 0.5000 - val_loss: 0.6913 - val_accuracy: 0.5000\n",
            "Epoch 38/100\n",
            "3/3 [==============================] - 0s 15ms/step - loss: 0.6918 - accuracy: 0.5000 - val_loss: 0.6912 - val_accuracy: 0.5000\n",
            "Epoch 39/100\n",
            "3/3 [==============================] - 0s 15ms/step - loss: 0.6917 - accuracy: 0.5000 - val_loss: 0.6910 - val_accuracy: 0.5000\n",
            "Epoch 40/100\n",
            "3/3 [==============================] - 0s 15ms/step - loss: 0.6916 - accuracy: 0.5000 - val_loss: 0.6908 - val_accuracy: 0.5000\n",
            "Epoch 41/100\n",
            "3/3 [==============================] - 0s 15ms/step - loss: 0.6915 - accuracy: 0.5000 - val_loss: 0.6907 - val_accuracy: 0.5000\n",
            "Epoch 42/100\n",
            "3/3 [==============================] - 0s 15ms/step - loss: 0.6914 - accuracy: 0.5000 - val_loss: 0.6904 - val_accuracy: 0.5000\n",
            "Epoch 43/100\n",
            "3/3 [==============================] - 0s 28ms/step - loss: 0.6913 - accuracy: 0.5000 - val_loss: 0.6902 - val_accuracy: 0.5000\n",
            "Epoch 44/100\n",
            "3/3 [==============================] - 0s 16ms/step - loss: 0.6911 - accuracy: 0.5000 - val_loss: 0.6901 - val_accuracy: 0.5000\n",
            "Epoch 45/100\n",
            "3/3 [==============================] - 0s 16ms/step - loss: 0.6910 - accuracy: 0.5000 - val_loss: 0.6899 - val_accuracy: 0.5000\n",
            "Epoch 46/100\n",
            "3/3 [==============================] - 0s 15ms/step - loss: 0.6909 - accuracy: 0.5000 - val_loss: 0.6897 - val_accuracy: 0.5000\n",
            "Epoch 47/100\n",
            "3/3 [==============================] - 0s 15ms/step - loss: 0.6907 - accuracy: 0.5000 - val_loss: 0.6896 - val_accuracy: 0.5000\n",
            "Epoch 48/100\n",
            "3/3 [==============================] - 0s 24ms/step - loss: 0.6906 - accuracy: 0.5000 - val_loss: 0.6894 - val_accuracy: 0.5000\n",
            "Epoch 49/100\n",
            "3/3 [==============================] - 0s 16ms/step - loss: 0.6905 - accuracy: 0.5000 - val_loss: 0.6892 - val_accuracy: 0.5000\n",
            "Epoch 50/100\n",
            "3/3 [==============================] - 0s 16ms/step - loss: 0.6903 - accuracy: 0.5000 - val_loss: 0.6890 - val_accuracy: 0.5000\n",
            "Epoch 51/100\n",
            "3/3 [==============================] - 0s 16ms/step - loss: 0.6902 - accuracy: 0.5000 - val_loss: 0.6887 - val_accuracy: 0.5000\n",
            "Epoch 52/100\n",
            "3/3 [==============================] - 0s 17ms/step - loss: 0.6900 - accuracy: 0.5000 - val_loss: 0.6885 - val_accuracy: 0.5000\n",
            "Epoch 53/100\n",
            "3/3 [==============================] - 0s 16ms/step - loss: 0.6899 - accuracy: 0.5000 - val_loss: 0.6882 - val_accuracy: 0.5000\n",
            "Epoch 54/100\n",
            "3/3 [==============================] - 0s 15ms/step - loss: 0.6897 - accuracy: 0.5000 - val_loss: 0.6880 - val_accuracy: 0.5000\n",
            "Epoch 55/100\n",
            "3/3 [==============================] - 0s 20ms/step - loss: 0.6895 - accuracy: 0.5000 - val_loss: 0.6878 - val_accuracy: 0.5000\n",
            "Epoch 56/100\n",
            "3/3 [==============================] - 0s 16ms/step - loss: 0.6894 - accuracy: 0.5000 - val_loss: 0.6875 - val_accuracy: 0.5000\n",
            "Epoch 57/100\n",
            "3/3 [==============================] - 0s 15ms/step - loss: 0.6891 - accuracy: 0.5000 - val_loss: 0.6872 - val_accuracy: 0.5000\n",
            "Epoch 58/100\n",
            "3/3 [==============================] - 0s 15ms/step - loss: 0.6891 - accuracy: 0.5000 - val_loss: 0.6868 - val_accuracy: 0.5000\n",
            "Epoch 59/100\n",
            "3/3 [==============================] - 0s 17ms/step - loss: 0.6887 - accuracy: 0.5000 - val_loss: 0.6865 - val_accuracy: 0.5000\n",
            "Epoch 60/100\n",
            "3/3 [==============================] - 0s 15ms/step - loss: 0.6884 - accuracy: 0.5000 - val_loss: 0.6862 - val_accuracy: 0.5000\n",
            "Epoch 61/100\n",
            "3/3 [==============================] - 0s 15ms/step - loss: 0.6882 - accuracy: 0.5000 - val_loss: 0.6858 - val_accuracy: 0.5000\n",
            "Epoch 62/100\n",
            "3/3 [==============================] - 0s 18ms/step - loss: 0.6880 - accuracy: 0.5000 - val_loss: 0.6855 - val_accuracy: 0.5000\n",
            "Epoch 63/100\n",
            "3/3 [==============================] - 0s 16ms/step - loss: 0.6877 - accuracy: 0.5000 - val_loss: 0.6851 - val_accuracy: 0.5000\n",
            "Epoch 64/100\n",
            "3/3 [==============================] - 0s 15ms/step - loss: 0.6876 - accuracy: 0.5000 - val_loss: 0.6847 - val_accuracy: 0.5000\n",
            "Epoch 65/100\n",
            "3/3 [==============================] - 0s 16ms/step - loss: 0.6873 - accuracy: 0.5000 - val_loss: 0.6843 - val_accuracy: 0.5000\n",
            "Epoch 66/100\n",
            "3/3 [==============================] - 0s 16ms/step - loss: 0.6870 - accuracy: 0.5000 - val_loss: 0.6839 - val_accuracy: 0.5000\n",
            "Epoch 67/100\n",
            "3/3 [==============================] - 0s 21ms/step - loss: 0.6869 - accuracy: 0.5000 - val_loss: 0.6835 - val_accuracy: 0.5000\n",
            "Epoch 68/100\n",
            "3/3 [==============================] - 0s 16ms/step - loss: 0.6865 - accuracy: 0.5000 - val_loss: 0.6831 - val_accuracy: 0.5000\n",
            "Epoch 69/100\n",
            "3/3 [==============================] - 0s 16ms/step - loss: 0.6862 - accuracy: 0.5000 - val_loss: 0.6828 - val_accuracy: 0.5000\n",
            "Epoch 70/100\n",
            "3/3 [==============================] - 0s 16ms/step - loss: 0.6859 - accuracy: 0.5000 - val_loss: 0.6824 - val_accuracy: 0.5000\n",
            "Epoch 71/100\n",
            "3/3 [==============================] - 0s 15ms/step - loss: 0.6857 - accuracy: 0.5000 - val_loss: 0.6820 - val_accuracy: 0.5000\n",
            "Epoch 72/100\n",
            "3/3 [==============================] - 0s 15ms/step - loss: 0.6854 - accuracy: 0.5000 - val_loss: 0.6816 - val_accuracy: 0.5000\n",
            "Epoch 73/100\n",
            "3/3 [==============================] - 0s 16ms/step - loss: 0.6851 - accuracy: 0.5000 - val_loss: 0.6812 - val_accuracy: 0.5000\n",
            "Epoch 74/100\n",
            "3/3 [==============================] - 0s 16ms/step - loss: 0.6848 - accuracy: 0.5000 - val_loss: 0.6808 - val_accuracy: 0.5000\n",
            "Epoch 75/100\n",
            "3/3 [==============================] - 0s 16ms/step - loss: 0.6845 - accuracy: 0.5000 - val_loss: 0.6803 - val_accuracy: 0.5000\n",
            "Epoch 76/100\n",
            "3/3 [==============================] - 0s 15ms/step - loss: 0.6842 - accuracy: 0.5000 - val_loss: 0.6799 - val_accuracy: 0.5000\n",
            "Epoch 77/100\n",
            "3/3 [==============================] - 0s 16ms/step - loss: 0.6839 - accuracy: 0.5000 - val_loss: 0.6795 - val_accuracy: 0.5000\n",
            "Epoch 78/100\n",
            "3/3 [==============================] - 0s 15ms/step - loss: 0.6836 - accuracy: 0.5000 - val_loss: 0.6791 - val_accuracy: 0.5000\n",
            "Epoch 79/100\n",
            "3/3 [==============================] - 0s 25ms/step - loss: 0.6833 - accuracy: 0.5000 - val_loss: 0.6787 - val_accuracy: 0.5000\n",
            "Epoch 80/100\n",
            "3/3 [==============================] - 0s 16ms/step - loss: 0.6830 - accuracy: 0.5000 - val_loss: 0.6783 - val_accuracy: 0.5000\n",
            "Epoch 81/100\n",
            "3/3 [==============================] - 0s 15ms/step - loss: 0.6827 - accuracy: 0.5000 - val_loss: 0.6780 - val_accuracy: 0.5000\n",
            "Epoch 82/100\n",
            "3/3 [==============================] - 0s 15ms/step - loss: 0.6824 - accuracy: 0.5000 - val_loss: 0.6776 - val_accuracy: 0.5000\n",
            "Epoch 83/100\n",
            "3/3 [==============================] - 0s 18ms/step - loss: 0.6821 - accuracy: 0.5000 - val_loss: 0.6772 - val_accuracy: 0.5000\n",
            "Epoch 84/100\n",
            "3/3 [==============================] - 0s 15ms/step - loss: 0.6818 - accuracy: 0.5000 - val_loss: 0.6767 - val_accuracy: 0.5000\n",
            "Epoch 85/100\n",
            "3/3 [==============================] - 0s 15ms/step - loss: 0.6815 - accuracy: 0.5000 - val_loss: 0.6762 - val_accuracy: 0.5000\n",
            "Epoch 86/100\n",
            "3/3 [==============================] - 0s 15ms/step - loss: 0.6811 - accuracy: 0.5000 - val_loss: 0.6758 - val_accuracy: 0.5000\n",
            "Epoch 87/100\n",
            "3/3 [==============================] - 0s 16ms/step - loss: 0.6808 - accuracy: 0.5000 - val_loss: 0.6753 - val_accuracy: 0.5000\n",
            "Epoch 88/100\n",
            "3/3 [==============================] - 0s 16ms/step - loss: 0.6805 - accuracy: 0.5000 - val_loss: 0.6749 - val_accuracy: 0.5000\n",
            "Epoch 89/100\n",
            "3/3 [==============================] - 0s 15ms/step - loss: 0.6801 - accuracy: 0.5000 - val_loss: 0.6744 - val_accuracy: 0.5000\n",
            "Epoch 90/100\n",
            "3/3 [==============================] - 0s 33ms/step - loss: 0.6797 - accuracy: 0.5000 - val_loss: 0.6738 - val_accuracy: 0.5000\n",
            "Epoch 91/100\n",
            "3/3 [==============================] - 0s 25ms/step - loss: 0.6793 - accuracy: 0.5000 - val_loss: 0.6733 - val_accuracy: 0.5000\n",
            "Epoch 92/100\n",
            "3/3 [==============================] - 0s 31ms/step - loss: 0.6789 - accuracy: 0.5000 - val_loss: 0.6727 - val_accuracy: 0.5000\n",
            "Epoch 93/100\n",
            "3/3 [==============================] - 0s 29ms/step - loss: 0.6785 - accuracy: 0.5000 - val_loss: 0.6721 - val_accuracy: 0.5000\n",
            "Epoch 94/100\n",
            "3/3 [==============================] - 0s 22ms/step - loss: 0.6781 - accuracy: 0.5000 - val_loss: 0.6715 - val_accuracy: 0.5000\n",
            "Epoch 95/100\n",
            "3/3 [==============================] - 0s 32ms/step - loss: 0.6776 - accuracy: 0.5000 - val_loss: 0.6708 - val_accuracy: 0.5000\n",
            "Epoch 96/100\n",
            "3/3 [==============================] - 0s 22ms/step - loss: 0.6771 - accuracy: 0.5000 - val_loss: 0.6701 - val_accuracy: 0.5000\n",
            "Epoch 97/100\n",
            "3/3 [==============================] - 0s 33ms/step - loss: 0.6767 - accuracy: 0.5000 - val_loss: 0.6694 - val_accuracy: 0.5000\n",
            "Epoch 98/100\n",
            "3/3 [==============================] - 0s 32ms/step - loss: 0.6763 - accuracy: 0.5000 - val_loss: 0.6686 - val_accuracy: 0.5000\n",
            "Epoch 99/100\n",
            "3/3 [==============================] - 0s 22ms/step - loss: 0.6758 - accuracy: 0.5000 - val_loss: 0.6679 - val_accuracy: 0.5000\n",
            "Epoch 100/100\n",
            "3/3 [==============================] - 0s 22ms/step - loss: 0.6753 - accuracy: 0.5000 - val_loss: 0.6673 - val_accuracy: 0.5000\n"
          ]
        }
      ]
    },
    {
      "cell_type": "code",
      "source": [
        "model.get_weights()"
      ],
      "metadata": {
        "colab": {
          "base_uri": "https://localhost:8080/"
        },
        "id": "71s18p___DVG",
        "outputId": "6b5613aa-e079-417c-e082-0b6c274c29ff"
      },
      "execution_count": 37,
      "outputs": [
        {
          "output_type": "execute_result",
          "data": {
            "text/plain": [
              "[array([[ 0.43853644,  0.43853644,  0.43853644,  0.43853644,  0.43853644,\n",
              "          0.43853644,  0.43853644,  0.43853644,  0.43853644,  0.43853644],\n",
              "        [-0.47230875, -0.47230875, -0.47230875, -0.47230875, -0.47230875,\n",
              "         -0.47230875, -0.47230875, -0.47230875, -0.47230875, -0.47230875]],\n",
              "       dtype=float32),\n",
              " array([-0.12835425, -0.12835425, -0.12835425, -0.12835425, -0.12835425,\n",
              "        -0.12835425, -0.12835425, -0.12835425, -0.12835425, -0.12835425],\n",
              "       dtype=float32),\n",
              " array([[0.05805845],\n",
              "        [0.05805845],\n",
              "        [0.05805845],\n",
              "        [0.05805845],\n",
              "        [0.05805845],\n",
              "        [0.05805845],\n",
              "        [0.05805845],\n",
              "        [0.05805845],\n",
              "        [0.05805845],\n",
              "        [0.05805845]], dtype=float32),\n",
              " array([-0.06378681], dtype=float32)]"
            ]
          },
          "metadata": {},
          "execution_count": 37
        }
      ]
    },
    {
      "cell_type": "code",
      "source": [
        "from mlxtend.plotting import plot_decision_regions\n",
        "plot_decision_regions(X,y.astype('int'), clf=model, legend=2)"
      ],
      "metadata": {
        "colab": {
          "base_uri": "https://localhost:8080/",
          "height": 465
        },
        "id": "Z2Jn8qoQ_F-Y",
        "outputId": "834f3733-e1c2-4f8b-e650-54e3ccd4fd4a"
      },
      "execution_count": 38,
      "outputs": [
        {
          "output_type": "stream",
          "name": "stdout",
          "text": [
            "9600/9600 [==============================] - 13s 1ms/step\n"
          ]
        },
        {
          "output_type": "execute_result",
          "data": {
            "text/plain": [
              "<Axes: >"
            ]
          },
          "metadata": {},
          "execution_count": 38
        },
        {
          "output_type": "display_data",
          "data": {
            "text/plain": [
              "<Figure size 640x480 with 1 Axes>"
            ],
            "image/png": "[encoded data removed]"
          },
          "metadata": {}
        }
      ]
    },
    {
      "cell_type": "markdown",
      "source": [
        "# Instead of zero we'll use 0.5 for initial weights\n",
        "\n",
        "If you want you can use other activations to confirm it.\n",
        "\n",
        "I'm using relu as an activation function."
      ],
      "metadata": {
        "id": "8D727fD5AP3t"
      }
    },
    {
      "cell_type": "code",
      "source": [
        "model = Sequential()\n",
        "\n",
        "model.add(Dense(10,activation='relu',input_dim=2))\n",
        "model.add(Dense(1,activation='sigmoid'))\n",
        "\n",
        "model.summary()"
      ],
      "metadata": {
        "colab": {
          "base_uri": "https://localhost:8080/"
        },
        "id": "Y8592h4O_Ike",
        "outputId": "f1517179-f593-42ec-9a6f-5a182fa3f36b"
      },
      "execution_count": 40,
      "outputs": [
        {
          "output_type": "stream",
          "name": "stdout",
          "text": [
            "Model: \"sequential_5\"\n",
            "_________________________________________________________________\n",
            " Layer (type)                Output Shape              Param #   \n",
            "=================================================================\n",
            " dense_10 (Dense)            (None, 10)                30        \n",
            "                                                                 \n",
            " dense_11 (Dense)            (None, 1)                 11        \n",
            "                                                                 \n",
            "=================================================================\n",
            "Total params: 41 (164.00 Byte)\n",
            "Trainable params: 41 (164.00 Byte)\n",
            "Non-trainable params: 0 (0.00 Byte)\n",
            "_________________________________________________________________\n"
          ]
        }
      ]
    },
    {
      "cell_type": "code",
      "source": [
        "# Set parameters to 0\n",
        "model.get_weights()"
      ],
      "metadata": {
        "colab": {
          "base_uri": "https://localhost:8080/"
        },
        "id": "UbjtCwmsA-sq",
        "outputId": "df9e64ed-fd80-4474-8e20-860417a3d203"
      },
      "execution_count": 41,
      "outputs": [
        {
          "output_type": "execute_result",
          "data": {
            "text/plain": [
              "[array([[-0.20027506,  0.67983896, -0.3476343 , -0.47091955,  0.61980385,\n",
              "         -0.6150279 ,  0.4156254 , -0.058869  , -0.4716664 ,  0.6225932 ],\n",
              "        [ 0.08055729, -0.2769707 , -0.10434377,  0.4034049 , -0.0760594 ,\n",
              "          0.16907257,  0.01382554, -0.07508868,  0.33453554, -0.47578228]],\n",
              "       dtype=float32),\n",
              " array([0., 0., 0., 0., 0., 0., 0., 0., 0., 0.], dtype=float32),\n",
              " array([[-0.40836012],\n",
              "        [ 0.6460033 ],\n",
              "        [-0.71762013],\n",
              "        [-0.1144703 ],\n",
              "        [ 0.15149581],\n",
              "        [-0.6054692 ],\n",
              "        [ 0.1774289 ],\n",
              "        [-0.6456044 ],\n",
              "        [-0.52906454],\n",
              "        [ 0.7309844 ]], dtype=float32),\n",
              " array([0.], dtype=float32)]"
            ]
          },
          "metadata": {},
          "execution_count": 41
        }
      ]
    },
    {
      "cell_type": "code",
      "source": [
        "initial_weights = model.get_weights()"
      ],
      "metadata": {
        "id": "kG3R7npLBg1H"
      },
      "execution_count": 42,
      "outputs": []
    },
    {
      "cell_type": "code",
      "source": [
        "initial_weights[0] = np.ones(model.get_weights()[0].shape)*0.5\n",
        "initial_weights[1] = np.ones(model.get_weights()[1].shape)*0.5\n",
        "initial_weights[2] = np.ones(model.get_weights()[2].shape)*0.5\n",
        "initial_weights[3] = np.ones(model.get_weights()[3].shape)*0.5"
      ],
      "metadata": {
        "id": "ldl_fg8uBi6K"
      },
      "execution_count": 43,
      "outputs": []
    },
    {
      "cell_type": "code",
      "source": [
        "model.set_weights(initial_weights)"
      ],
      "metadata": {
        "id": "3fF_0QPfBkpP"
      },
      "execution_count": 44,
      "outputs": []
    },
    {
      "cell_type": "code",
      "source": [
        "model.get_weights()"
      ],
      "metadata": {
        "colab": {
          "base_uri": "https://localhost:8080/"
        },
        "id": "YJ2v1W6HBmai",
        "outputId": "f656d4d6-02f4-4177-d863-3bfdb595d97b"
      },
      "execution_count": 45,
      "outputs": [
        {
          "output_type": "execute_result",
          "data": {
            "text/plain": [
              "[array([[0.5, 0.5, 0.5, 0.5, 0.5, 0.5, 0.5, 0.5, 0.5, 0.5],\n",
              "        [0.5, 0.5, 0.5, 0.5, 0.5, 0.5, 0.5, 0.5, 0.5, 0.5]], dtype=float32),\n",
              " array([0.5, 0.5, 0.5, 0.5, 0.5, 0.5, 0.5, 0.5, 0.5, 0.5], dtype=float32),\n",
              " array([[0.5],\n",
              "        [0.5],\n",
              "        [0.5],\n",
              "        [0.5],\n",
              "        [0.5],\n",
              "        [0.5],\n",
              "        [0.5],\n",
              "        [0.5],\n",
              "        [0.5],\n",
              "        [0.5]], dtype=float32),\n",
              " array([0.5], dtype=float32)]"
            ]
          },
          "metadata": {},
          "execution_count": 45
        }
      ]
    },
    {
      "cell_type": "code",
      "source": [
        "model.compile(loss='binary_crossentropy',optimizer='adam',metrics=['accuracy'])"
      ],
      "metadata": {
        "id": "EORFi1eZBoGM"
      },
      "execution_count": 46,
      "outputs": []
    },
    {
      "cell_type": "code",
      "source": [
        "history = model.fit(X,y,epochs=100,validation_split=0.2)"
      ],
      "metadata": {
        "colab": {
          "base_uri": "https://localhost:8080/"
        },
        "collapsed": true,
        "id": "XFzFvqmPBqZW",
        "outputId": "dbfb36b5-fd56-4909-a3e4-c6cc55acbf85"
      },
      "execution_count": 47,
      "outputs": [
        {
          "output_type": "stream",
          "name": "stdout",
          "text": [
            "Epoch 1/100\n",
            "3/3 [==============================] - 1s 152ms/step - loss: 2.5194 - accuracy: 0.5000 - val_loss: 1.8238 - val_accuracy: 0.5000\n",
            "Epoch 2/100\n",
            "3/3 [==============================] - 0s 44ms/step - loss: 2.4919 - accuracy: 0.5000 - val_loss: 1.8054 - val_accuracy: 0.5000\n",
            "Epoch 3/100\n",
            "3/3 [==============================] - 0s 76ms/step - loss: 2.4625 - accuracy: 0.5000 - val_loss: 1.7875 - val_accuracy: 0.5000\n",
            "Epoch 4/100\n",
            "3/3 [==============================] - 0s 69ms/step - loss: 2.4405 - accuracy: 0.5000 - val_loss: 1.7696 - val_accuracy: 0.5000\n",
            "Epoch 5/100\n",
            "3/3 [==============================] - 0s 36ms/step - loss: 2.4129 - accuracy: 0.5000 - val_loss: 1.7521 - val_accuracy: 0.5000\n",
            "Epoch 6/100\n",
            "3/3 [==============================] - 0s 15ms/step - loss: 2.3860 - accuracy: 0.5000 - val_loss: 1.7348 - val_accuracy: 0.5000\n",
            "Epoch 7/100\n",
            "3/3 [==============================] - 0s 15ms/step - loss: 2.3618 - accuracy: 0.5000 - val_loss: 1.7176 - val_accuracy: 0.5000\n",
            "Epoch 8/100\n",
            "3/3 [==============================] - 0s 16ms/step - loss: 2.3351 - accuracy: 0.5000 - val_loss: 1.7007 - val_accuracy: 0.5000\n",
            "Epoch 9/100\n",
            "3/3 [==============================] - 0s 15ms/step - loss: 2.3096 - accuracy: 0.5000 - val_loss: 1.6839 - val_accuracy: 0.5000\n",
            "Epoch 10/100\n",
            "3/3 [==============================] - 0s 24ms/step - loss: 2.2873 - accuracy: 0.5000 - val_loss: 1.6669 - val_accuracy: 0.5000\n",
            "Epoch 11/100\n",
            "3/3 [==============================] - 0s 15ms/step - loss: 2.2619 - accuracy: 0.5000 - val_loss: 1.6503 - val_accuracy: 0.5000\n",
            "Epoch 12/100\n",
            "3/3 [==============================] - 0s 16ms/step - loss: 2.2381 - accuracy: 0.5000 - val_loss: 1.6338 - val_accuracy: 0.5000\n",
            "Epoch 13/100\n",
            "3/3 [==============================] - 0s 16ms/step - loss: 2.2143 - accuracy: 0.5000 - val_loss: 1.6176 - val_accuracy: 0.5000\n",
            "Epoch 14/100\n",
            "3/3 [==============================] - 0s 17ms/step - loss: 2.1890 - accuracy: 0.5000 - val_loss: 1.6017 - val_accuracy: 0.5000\n",
            "Epoch 15/100\n",
            "3/3 [==============================] - 0s 26ms/step - loss: 2.1670 - accuracy: 0.5000 - val_loss: 1.5859 - val_accuracy: 0.5000\n",
            "Epoch 16/100\n",
            "3/3 [==============================] - 0s 16ms/step - loss: 2.1438 - accuracy: 0.5000 - val_loss: 1.5703 - val_accuracy: 0.5000\n",
            "Epoch 17/100\n",
            "3/3 [==============================] - 0s 16ms/step - loss: 2.1204 - accuracy: 0.5000 - val_loss: 1.5549 - val_accuracy: 0.5000\n",
            "Epoch 18/100\n",
            "3/3 [==============================] - 0s 22ms/step - loss: 2.0973 - accuracy: 0.5000 - val_loss: 1.5396 - val_accuracy: 0.5000\n",
            "Epoch 19/100\n",
            "3/3 [==============================] - 0s 18ms/step - loss: 2.0755 - accuracy: 0.5000 - val_loss: 1.5242 - val_accuracy: 0.5000\n",
            "Epoch 20/100\n",
            "3/3 [==============================] - 0s 18ms/step - loss: 2.0541 - accuracy: 0.5000 - val_loss: 1.5091 - val_accuracy: 0.5000\n",
            "Epoch 21/100\n",
            "3/3 [==============================] - 0s 18ms/step - loss: 2.0310 - accuracy: 0.5000 - val_loss: 1.4943 - val_accuracy: 0.5000\n",
            "Epoch 22/100\n",
            "3/3 [==============================] - 0s 16ms/step - loss: 2.0103 - accuracy: 0.5000 - val_loss: 1.4796 - val_accuracy: 0.5000\n",
            "Epoch 23/100\n",
            "3/3 [==============================] - 0s 17ms/step - loss: 1.9892 - accuracy: 0.5000 - val_loss: 1.4652 - val_accuracy: 0.5000\n",
            "Epoch 24/100\n",
            "3/3 [==============================] - 0s 20ms/step - loss: 1.9684 - accuracy: 0.5000 - val_loss: 1.4511 - val_accuracy: 0.5000\n",
            "Epoch 25/100\n",
            "3/3 [==============================] - 0s 18ms/step - loss: 1.9475 - accuracy: 0.5000 - val_loss: 1.4373 - val_accuracy: 0.5000\n",
            "Epoch 26/100\n",
            "3/3 [==============================] - 0s 17ms/step - loss: 1.9255 - accuracy: 0.5000 - val_loss: 1.4239 - val_accuracy: 0.5000\n",
            "Epoch 27/100\n",
            "3/3 [==============================] - 0s 17ms/step - loss: 1.9056 - accuracy: 0.5000 - val_loss: 1.4102 - val_accuracy: 0.5000\n",
            "Epoch 28/100\n",
            "3/3 [==============================] - 0s 17ms/step - loss: 1.8881 - accuracy: 0.5000 - val_loss: 1.3964 - val_accuracy: 0.5000\n",
            "Epoch 29/100\n",
            "3/3 [==============================] - 0s 16ms/step - loss: 1.8668 - accuracy: 0.5000 - val_loss: 1.3831 - val_accuracy: 0.5000\n",
            "Epoch 30/100\n",
            "3/3 [==============================] - 0s 16ms/step - loss: 1.8464 - accuracy: 0.5000 - val_loss: 1.3700 - val_accuracy: 0.5000\n",
            "Epoch 31/100\n",
            "3/3 [==============================] - 0s 18ms/step - loss: 1.8276 - accuracy: 0.5000 - val_loss: 1.3567 - val_accuracy: 0.5000\n",
            "Epoch 32/100\n",
            "3/3 [==============================] - 0s 17ms/step - loss: 1.8091 - accuracy: 0.5000 - val_loss: 1.3436 - val_accuracy: 0.5000\n",
            "Epoch 33/100\n",
            "3/3 [==============================] - 0s 17ms/step - loss: 1.7897 - accuracy: 0.5000 - val_loss: 1.3308 - val_accuracy: 0.5000\n",
            "Epoch 34/100\n",
            "3/3 [==============================] - 0s 17ms/step - loss: 1.7716 - accuracy: 0.5000 - val_loss: 1.3183 - val_accuracy: 0.5000\n",
            "Epoch 35/100\n",
            "3/3 [==============================] - 0s 16ms/step - loss: 1.7523 - accuracy: 0.5000 - val_loss: 1.3061 - val_accuracy: 0.5000\n",
            "Epoch 36/100\n",
            "3/3 [==============================] - 0s 16ms/step - loss: 1.7356 - accuracy: 0.5000 - val_loss: 1.2939 - val_accuracy: 0.5000\n",
            "Epoch 37/100\n",
            "3/3 [==============================] - 0s 18ms/step - loss: 1.7163 - accuracy: 0.5000 - val_loss: 1.2822 - val_accuracy: 0.5000\n",
            "Epoch 38/100\n",
            "3/3 [==============================] - 0s 18ms/step - loss: 1.6991 - accuracy: 0.5000 - val_loss: 1.2704 - val_accuracy: 0.5000\n",
            "Epoch 39/100\n",
            "3/3 [==============================] - 0s 17ms/step - loss: 1.6818 - accuracy: 0.5000 - val_loss: 1.2589 - val_accuracy: 0.5000\n",
            "Epoch 40/100\n",
            "3/3 [==============================] - 0s 16ms/step - loss: 1.6649 - accuracy: 0.5000 - val_loss: 1.2473 - val_accuracy: 0.5000\n",
            "Epoch 41/100\n",
            "3/3 [==============================] - 0s 22ms/step - loss: 1.6471 - accuracy: 0.5000 - val_loss: 1.2359 - val_accuracy: 0.5000\n",
            "Epoch 42/100\n",
            "3/3 [==============================] - 0s 16ms/step - loss: 1.6313 - accuracy: 0.5000 - val_loss: 1.2244 - val_accuracy: 0.5000\n",
            "Epoch 43/100\n",
            "3/3 [==============================] - 0s 16ms/step - loss: 1.6136 - accuracy: 0.5000 - val_loss: 1.2132 - val_accuracy: 0.5000\n",
            "Epoch 44/100\n",
            "3/3 [==============================] - 0s 30ms/step - loss: 1.5967 - accuracy: 0.5000 - val_loss: 1.2022 - val_accuracy: 0.5000\n",
            "Epoch 45/100\n",
            "3/3 [==============================] - 0s 33ms/step - loss: 1.5795 - accuracy: 0.5000 - val_loss: 1.1913 - val_accuracy: 0.5000\n",
            "Epoch 46/100\n",
            "3/3 [==============================] - 0s 24ms/step - loss: 1.5638 - accuracy: 0.5000 - val_loss: 1.1803 - val_accuracy: 0.5000\n",
            "Epoch 47/100\n",
            "3/3 [==============================] - 0s 25ms/step - loss: 1.5485 - accuracy: 0.5000 - val_loss: 1.1695 - val_accuracy: 0.5000\n",
            "Epoch 48/100\n",
            "3/3 [==============================] - 0s 32ms/step - loss: 1.5317 - accuracy: 0.5000 - val_loss: 1.1591 - val_accuracy: 0.5000\n",
            "Epoch 49/100\n",
            "3/3 [==============================] - 0s 30ms/step - loss: 1.5171 - accuracy: 0.5000 - val_loss: 1.1489 - val_accuracy: 0.5000\n",
            "Epoch 50/100\n",
            "3/3 [==============================] - 0s 34ms/step - loss: 1.5006 - accuracy: 0.5000 - val_loss: 1.1391 - val_accuracy: 0.5000\n",
            "Epoch 51/100\n",
            "3/3 [==============================] - 0s 33ms/step - loss: 1.4852 - accuracy: 0.5000 - val_loss: 1.1294 - val_accuracy: 0.5000\n",
            "Epoch 52/100\n",
            "3/3 [==============================] - 0s 35ms/step - loss: 1.4709 - accuracy: 0.5000 - val_loss: 1.1196 - val_accuracy: 0.5000\n",
            "Epoch 53/100\n",
            "3/3 [==============================] - 0s 23ms/step - loss: 1.4554 - accuracy: 0.5000 - val_loss: 1.1099 - val_accuracy: 0.5000\n",
            "Epoch 54/100\n",
            "3/3 [==============================] - 0s 34ms/step - loss: 1.4413 - accuracy: 0.5000 - val_loss: 1.1001 - val_accuracy: 0.5000\n",
            "Epoch 55/100\n",
            "3/3 [==============================] - 0s 26ms/step - loss: 1.4269 - accuracy: 0.5000 - val_loss: 1.0903 - val_accuracy: 0.5000\n",
            "Epoch 56/100\n",
            "3/3 [==============================] - 0s 29ms/step - loss: 1.4114 - accuracy: 0.5000 - val_loss: 1.0807 - val_accuracy: 0.5000\n",
            "Epoch 57/100\n",
            "3/3 [==============================] - 0s 31ms/step - loss: 1.3976 - accuracy: 0.5000 - val_loss: 1.0712 - val_accuracy: 0.5000\n",
            "Epoch 58/100\n",
            "3/3 [==============================] - 0s 29ms/step - loss: 1.3840 - accuracy: 0.5000 - val_loss: 1.0621 - val_accuracy: 0.5000\n",
            "Epoch 59/100\n",
            "3/3 [==============================] - 0s 21ms/step - loss: 1.3687 - accuracy: 0.5000 - val_loss: 1.0533 - val_accuracy: 0.5000\n",
            "Epoch 60/100\n",
            "3/3 [==============================] - 0s 21ms/step - loss: 1.3562 - accuracy: 0.5000 - val_loss: 1.0445 - val_accuracy: 0.5000\n",
            "Epoch 61/100\n",
            "3/3 [==============================] - 0s 29ms/step - loss: 1.3420 - accuracy: 0.5000 - val_loss: 1.0361 - val_accuracy: 0.5000\n",
            "Epoch 62/100\n",
            "3/3 [==============================] - 0s 29ms/step - loss: 1.3297 - accuracy: 0.5000 - val_loss: 1.0276 - val_accuracy: 0.5000\n",
            "Epoch 63/100\n",
            "3/3 [==============================] - 0s 32ms/step - loss: 1.3170 - accuracy: 0.5000 - val_loss: 1.0193 - val_accuracy: 0.5000\n",
            "Epoch 64/100\n",
            "3/3 [==============================] - 0s 29ms/step - loss: 1.3038 - accuracy: 0.5000 - val_loss: 1.0112 - val_accuracy: 0.5000\n",
            "Epoch 65/100\n",
            "3/3 [==============================] - 0s 22ms/step - loss: 1.2912 - accuracy: 0.5000 - val_loss: 1.0033 - val_accuracy: 0.5000\n",
            "Epoch 66/100\n",
            "3/3 [==============================] - 0s 31ms/step - loss: 1.2789 - accuracy: 0.5000 - val_loss: 0.9956 - val_accuracy: 0.5000\n",
            "Epoch 67/100\n",
            "3/3 [==============================] - 0s 31ms/step - loss: 1.2668 - accuracy: 0.5000 - val_loss: 0.9880 - val_accuracy: 0.5000\n",
            "Epoch 68/100\n",
            "3/3 [==============================] - 0s 31ms/step - loss: 1.2550 - accuracy: 0.5000 - val_loss: 0.9804 - val_accuracy: 0.5000\n",
            "Epoch 69/100\n",
            "3/3 [==============================] - 0s 34ms/step - loss: 1.2441 - accuracy: 0.5000 - val_loss: 0.9728 - val_accuracy: 0.5000\n",
            "Epoch 70/100\n",
            "3/3 [==============================] - 0s 22ms/step - loss: 1.2316 - accuracy: 0.5000 - val_loss: 0.9655 - val_accuracy: 0.5000\n",
            "Epoch 71/100\n",
            "3/3 [==============================] - 0s 30ms/step - loss: 1.2203 - accuracy: 0.5000 - val_loss: 0.9583 - val_accuracy: 0.5000\n",
            "Epoch 72/100\n",
            "3/3 [==============================] - 0s 38ms/step - loss: 1.2093 - accuracy: 0.5000 - val_loss: 0.9513 - val_accuracy: 0.5000\n",
            "Epoch 73/100\n",
            "3/3 [==============================] - 0s 36ms/step - loss: 1.1985 - accuracy: 0.5000 - val_loss: 0.9445 - val_accuracy: 0.5000\n",
            "Epoch 74/100\n",
            "3/3 [==============================] - 0s 31ms/step - loss: 1.1878 - accuracy: 0.5000 - val_loss: 0.9377 - val_accuracy: 0.5000\n",
            "Epoch 75/100\n",
            "3/3 [==============================] - 0s 26ms/step - loss: 1.1781 - accuracy: 0.5000 - val_loss: 0.9309 - val_accuracy: 0.5000\n",
            "Epoch 76/100\n",
            "3/3 [==============================] - 0s 32ms/step - loss: 1.1665 - accuracy: 0.5000 - val_loss: 0.9245 - val_accuracy: 0.5000\n",
            "Epoch 77/100\n",
            "3/3 [==============================] - 0s 30ms/step - loss: 1.1568 - accuracy: 0.5000 - val_loss: 0.9182 - val_accuracy: 0.5000\n",
            "Epoch 78/100\n",
            "3/3 [==============================] - 0s 29ms/step - loss: 1.1466 - accuracy: 0.5000 - val_loss: 0.9120 - val_accuracy: 0.5000\n",
            "Epoch 79/100\n",
            "3/3 [==============================] - 0s 32ms/step - loss: 1.1370 - accuracy: 0.5000 - val_loss: 0.9058 - val_accuracy: 0.5000\n",
            "Epoch 80/100\n",
            "3/3 [==============================] - 0s 29ms/step - loss: 1.1275 - accuracy: 0.5000 - val_loss: 0.8997 - val_accuracy: 0.5000\n",
            "Epoch 81/100\n",
            "3/3 [==============================] - 0s 40ms/step - loss: 1.1181 - accuracy: 0.5000 - val_loss: 0.8938 - val_accuracy: 0.5000\n",
            "Epoch 82/100\n",
            "3/3 [==============================] - 0s 33ms/step - loss: 1.1089 - accuracy: 0.5000 - val_loss: 0.8881 - val_accuracy: 0.5000\n",
            "Epoch 83/100\n",
            "3/3 [==============================] - 0s 31ms/step - loss: 1.1001 - accuracy: 0.5000 - val_loss: 0.8824 - val_accuracy: 0.5000\n",
            "Epoch 84/100\n",
            "3/3 [==============================] - 0s 32ms/step - loss: 1.0909 - accuracy: 0.5000 - val_loss: 0.8770 - val_accuracy: 0.5000\n",
            "Epoch 85/100\n",
            "3/3 [==============================] - 0s 23ms/step - loss: 1.0820 - accuracy: 0.5000 - val_loss: 0.8717 - val_accuracy: 0.5000\n",
            "Epoch 86/100\n",
            "3/3 [==============================] - 0s 29ms/step - loss: 1.0743 - accuracy: 0.5000 - val_loss: 0.8663 - val_accuracy: 0.5000\n",
            "Epoch 87/100\n",
            "3/3 [==============================] - 0s 15ms/step - loss: 1.0661 - accuracy: 0.5000 - val_loss: 0.8612 - val_accuracy: 0.5000\n",
            "Epoch 88/100\n",
            "3/3 [==============================] - 0s 18ms/step - loss: 1.0582 - accuracy: 0.5000 - val_loss: 0.8562 - val_accuracy: 0.5000\n",
            "Epoch 89/100\n",
            "3/3 [==============================] - 0s 15ms/step - loss: 1.0497 - accuracy: 0.5000 - val_loss: 0.8514 - val_accuracy: 0.5000\n",
            "Epoch 90/100\n",
            "3/3 [==============================] - 0s 16ms/step - loss: 1.0428 - accuracy: 0.5000 - val_loss: 0.8467 - val_accuracy: 0.5000\n",
            "Epoch 91/100\n",
            "3/3 [==============================] - 0s 16ms/step - loss: 1.0353 - accuracy: 0.5000 - val_loss: 0.8421 - val_accuracy: 0.5000\n",
            "Epoch 92/100\n",
            "3/3 [==============================] - 0s 15ms/step - loss: 1.0277 - accuracy: 0.5000 - val_loss: 0.8376 - val_accuracy: 0.5000\n",
            "Epoch 93/100\n",
            "3/3 [==============================] - 0s 15ms/step - loss: 1.0205 - accuracy: 0.5000 - val_loss: 0.8332 - val_accuracy: 0.5000\n",
            "Epoch 94/100\n",
            "3/3 [==============================] - 0s 15ms/step - loss: 1.0133 - accuracy: 0.5000 - val_loss: 0.8289 - val_accuracy: 0.5000\n",
            "Epoch 95/100\n",
            "3/3 [==============================] - 0s 16ms/step - loss: 1.0064 - accuracy: 0.5000 - val_loss: 0.8246 - val_accuracy: 0.5000\n",
            "Epoch 96/100\n",
            "3/3 [==============================] - 0s 15ms/step - loss: 0.9996 - accuracy: 0.5000 - val_loss: 0.8203 - val_accuracy: 0.5000\n",
            "Epoch 97/100\n",
            "3/3 [==============================] - 0s 15ms/step - loss: 0.9928 - accuracy: 0.5000 - val_loss: 0.8161 - val_accuracy: 0.5000\n",
            "Epoch 98/100\n",
            "3/3 [==============================] - 0s 16ms/step - loss: 0.9862 - accuracy: 0.5000 - val_loss: 0.8120 - val_accuracy: 0.5000\n",
            "Epoch 99/100\n",
            "3/3 [==============================] - 0s 15ms/step - loss: 0.9794 - accuracy: 0.5000 - val_loss: 0.8079 - val_accuracy: 0.5000\n",
            "Epoch 100/100\n",
            "3/3 [==============================] - 0s 16ms/step - loss: 0.9727 - accuracy: 0.5000 - val_loss: 0.8039 - val_accuracy: 0.5000\n"
          ]
        }
      ]
    },
    {
      "cell_type": "code",
      "source": [
        "model.get_weights()"
      ],
      "metadata": {
        "colab": {
          "base_uri": "https://localhost:8080/"
        },
        "id": "mzIlNjKEB0yK",
        "outputId": "578f4696-7a3b-4ee5-d9ff-604d574c5e27"
      },
      "execution_count": 48,
      "outputs": [
        {
          "output_type": "execute_result",
          "data": {
            "text/plain": [
              "[array([[0.31041804, 0.31041804, 0.31041804, 0.31041804, 0.31041804,\n",
              "         0.31041804, 0.31041804, 0.31041804, 0.31041804, 0.31041804],\n",
              "        [0.25299054, 0.25299054, 0.25299054, 0.25299054, 0.25299054,\n",
              "         0.25299054, 0.25299054, 0.25299054, 0.25299054, 0.25299054]],\n",
              "       dtype=float32),\n",
              " array([0.26898256, 0.26898256, 0.26898256, 0.26898256, 0.26898256,\n",
              "        0.26898256, 0.26898256, 0.26898256, 0.26898256, 0.26898256],\n",
              "       dtype=float32),\n",
              " array([[0.26264915],\n",
              "        [0.26264915],\n",
              "        [0.26264915],\n",
              "        [0.26264915],\n",
              "        [0.26264915],\n",
              "        [0.26264915],\n",
              "        [0.26264915],\n",
              "        [0.26264915],\n",
              "        [0.26264915],\n",
              "        [0.26264915]], dtype=float32),\n",
              " array([0.22949539], dtype=float32)]"
            ]
          },
          "metadata": {},
          "execution_count": 48
        }
      ]
    },
    {
      "cell_type": "code",
      "source": [
        "from mlxtend.plotting import plot_decision_regions\n",
        "plot_decision_regions(X,y.astype('int'), clf=model, legend=2)"
      ],
      "metadata": {
        "colab": {
          "base_uri": "https://localhost:8080/",
          "height": 465
        },
        "id": "gvQSk8LfB-Es",
        "outputId": "b39a394c-02c6-4980-d162-9ab136cb12c0"
      },
      "execution_count": 49,
      "outputs": [
        {
          "output_type": "stream",
          "name": "stdout",
          "text": [
            "9600/9600 [==============================] - 15s 2ms/step\n"
          ]
        },
        {
          "output_type": "execute_result",
          "data": {
            "text/plain": [
              "<Axes: >"
            ]
          },
          "metadata": {},
          "execution_count": 49
        },
        {
          "output_type": "display_data",
          "data": {
            "text/plain": [
              "<Figure size 640x480 with 1 Axes>"
            ],
            "image/png": "[encoded data removed]"
          },
          "metadata": {}
        }
      ]
    },
    {
      "cell_type": "code",
      "source": [],
      "metadata": {
        "id": "4leBfKm7B_5C"
      },
      "execution_count": null,
      "outputs": []
    }
  ]
}